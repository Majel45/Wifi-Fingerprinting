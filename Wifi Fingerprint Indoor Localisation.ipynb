{
 "cells": [
  {
   "cell_type": "markdown",
   "metadata": {},
   "source": [
    "## Loading libraries"
   ]
  },
  {
   "cell_type": "code",
   "execution_count": 51,
   "metadata": {},
   "outputs": [],
   "source": [
    "import pandas as pd\n",
    "import numpy as np\n",
    "from mpl_toolkits.mplot3d import Axes3D\n",
    "import matplotlib.pyplot as plt\n",
    "import sys\n",
    "import plotly.plotly as py\n",
    "import plotly.graph_objs as go\n",
    "import warnings\n",
    "from scipy import stats #scientific kit (mathematics, data transformation & machine learning models)\n",
    "from scipy.stats.mstats import normaltest, skewtest, kurtosistest, skew, kurtosis\n",
    "import statsmodels #library for models\n",
    "import seaborn as sns #Used for plotting statistical data\n",
    "from sklearn.preprocessing import StandardScaler\n",
    "from sklearn.decomposition import PCA\n",
    "from sklearn import svm\n",
    "import psycopg2 # python library for postgres database (NoSQL- not only SQL) \n",
    "import plotly\n",
    "import plotly.dashboard_objs as dashboard\n",
    "import IPython.display\n",
    "from IPython.display import Image\n",
    "plotly.tools.set_credentials_file(username='Majel45', api_key='SToj7qOWO9iQBbvgiZqp')\n",
    "# purpose to create a database is to store data"
   ]
  },
  {
   "cell_type": "code",
   "execution_count": 2,
   "metadata": {},
   "outputs": [],
   "source": [
    "warnings.filterwarnings(\"ignore\") "
   ]
  },
  {
   "cell_type": "markdown",
   "metadata": {},
   "source": [
    "## Importing data"
   ]
  },
  {
   "cell_type": "code",
   "execution_count": 3,
   "metadata": {},
   "outputs": [],
   "source": [
    "training_df = pd.read_csv(\"trainingData.csv\")\n",
    "validation_df = pd.read_csv(\"validationData.csv\")"
   ]
  },
  {
   "cell_type": "code",
   "execution_count": 4,
   "metadata": {},
   "outputs": [
    {
     "data": {
      "text/plain": [
       "(19937, 529)"
      ]
     },
     "execution_count": 4,
     "metadata": {},
     "output_type": "execute_result"
    }
   ],
   "source": [
    "training_df.shape"
   ]
  },
  {
   "cell_type": "code",
   "execution_count": 5,
   "metadata": {},
   "outputs": [
    {
     "data": {
      "text/html": [
       "<div>\n",
       "<style scoped>\n",
       "    .dataframe tbody tr th:only-of-type {\n",
       "        vertical-align: middle;\n",
       "    }\n",
       "\n",
       "    .dataframe tbody tr th {\n",
       "        vertical-align: top;\n",
       "    }\n",
       "\n",
       "    .dataframe thead th {\n",
       "        text-align: right;\n",
       "    }\n",
       "</style>\n",
       "<table border=\"1\" class=\"dataframe\">\n",
       "  <thead>\n",
       "    <tr style=\"text-align: right;\">\n",
       "      <th></th>\n",
       "      <th>WAP001</th>\n",
       "      <th>WAP002</th>\n",
       "      <th>WAP003</th>\n",
       "      <th>WAP004</th>\n",
       "      <th>WAP005</th>\n",
       "      <th>WAP006</th>\n",
       "      <th>WAP007</th>\n",
       "      <th>WAP008</th>\n",
       "      <th>WAP009</th>\n",
       "      <th>WAP010</th>\n",
       "      <th>...</th>\n",
       "      <th>WAP520</th>\n",
       "      <th>LONGITUDE</th>\n",
       "      <th>LATITUDE</th>\n",
       "      <th>FLOOR</th>\n",
       "      <th>BUILDINGID</th>\n",
       "      <th>SPACEID</th>\n",
       "      <th>RELATIVEPOSITION</th>\n",
       "      <th>USERID</th>\n",
       "      <th>PHONEID</th>\n",
       "      <th>TIMESTAMP</th>\n",
       "    </tr>\n",
       "  </thead>\n",
       "  <tbody>\n",
       "    <tr>\n",
       "      <th>count</th>\n",
       "      <td>19937.000000</td>\n",
       "      <td>19937.000000</td>\n",
       "      <td>19937.0</td>\n",
       "      <td>19937.0</td>\n",
       "      <td>19937.000000</td>\n",
       "      <td>19937.000000</td>\n",
       "      <td>19937.000000</td>\n",
       "      <td>19937.000000</td>\n",
       "      <td>19937.000000</td>\n",
       "      <td>19937.000000</td>\n",
       "      <td>...</td>\n",
       "      <td>19937.0</td>\n",
       "      <td>19937.000000</td>\n",
       "      <td>1.993700e+04</td>\n",
       "      <td>19937.000000</td>\n",
       "      <td>19937.000000</td>\n",
       "      <td>19937.000000</td>\n",
       "      <td>19937.000000</td>\n",
       "      <td>19937.000000</td>\n",
       "      <td>19937.000000</td>\n",
       "      <td>1.993700e+04</td>\n",
       "    </tr>\n",
       "    <tr>\n",
       "      <th>mean</th>\n",
       "      <td>99.823644</td>\n",
       "      <td>99.820936</td>\n",
       "      <td>100.0</td>\n",
       "      <td>100.0</td>\n",
       "      <td>99.613733</td>\n",
       "      <td>97.130461</td>\n",
       "      <td>94.733661</td>\n",
       "      <td>93.820234</td>\n",
       "      <td>94.693936</td>\n",
       "      <td>99.163766</td>\n",
       "      <td>...</td>\n",
       "      <td>100.0</td>\n",
       "      <td>-7464.275947</td>\n",
       "      <td>4.864871e+06</td>\n",
       "      <td>1.674575</td>\n",
       "      <td>1.212820</td>\n",
       "      <td>148.429954</td>\n",
       "      <td>1.833024</td>\n",
       "      <td>9.068014</td>\n",
       "      <td>13.021869</td>\n",
       "      <td>1.371421e+09</td>\n",
       "    </tr>\n",
       "    <tr>\n",
       "      <th>std</th>\n",
       "      <td>5.866842</td>\n",
       "      <td>5.798156</td>\n",
       "      <td>0.0</td>\n",
       "      <td>0.0</td>\n",
       "      <td>8.615657</td>\n",
       "      <td>22.931890</td>\n",
       "      <td>30.541335</td>\n",
       "      <td>33.010404</td>\n",
       "      <td>30.305084</td>\n",
       "      <td>12.634045</td>\n",
       "      <td>...</td>\n",
       "      <td>0.0</td>\n",
       "      <td>123.402010</td>\n",
       "      <td>6.693318e+01</td>\n",
       "      <td>1.223078</td>\n",
       "      <td>0.833139</td>\n",
       "      <td>58.342106</td>\n",
       "      <td>0.372964</td>\n",
       "      <td>4.988720</td>\n",
       "      <td>5.362410</td>\n",
       "      <td>5.572054e+05</td>\n",
       "    </tr>\n",
       "    <tr>\n",
       "      <th>min</th>\n",
       "      <td>-97.000000</td>\n",
       "      <td>-90.000000</td>\n",
       "      <td>100.0</td>\n",
       "      <td>100.0</td>\n",
       "      <td>-97.000000</td>\n",
       "      <td>-98.000000</td>\n",
       "      <td>-99.000000</td>\n",
       "      <td>-98.000000</td>\n",
       "      <td>-98.000000</td>\n",
       "      <td>-99.000000</td>\n",
       "      <td>...</td>\n",
       "      <td>100.0</td>\n",
       "      <td>-7691.338400</td>\n",
       "      <td>4.864746e+06</td>\n",
       "      <td>0.000000</td>\n",
       "      <td>0.000000</td>\n",
       "      <td>1.000000</td>\n",
       "      <td>1.000000</td>\n",
       "      <td>1.000000</td>\n",
       "      <td>1.000000</td>\n",
       "      <td>1.369909e+09</td>\n",
       "    </tr>\n",
       "    <tr>\n",
       "      <th>25%</th>\n",
       "      <td>100.000000</td>\n",
       "      <td>100.000000</td>\n",
       "      <td>100.0</td>\n",
       "      <td>100.0</td>\n",
       "      <td>100.000000</td>\n",
       "      <td>100.000000</td>\n",
       "      <td>100.000000</td>\n",
       "      <td>100.000000</td>\n",
       "      <td>100.000000</td>\n",
       "      <td>100.000000</td>\n",
       "      <td>...</td>\n",
       "      <td>100.0</td>\n",
       "      <td>-7594.737000</td>\n",
       "      <td>4.864821e+06</td>\n",
       "      <td>1.000000</td>\n",
       "      <td>0.000000</td>\n",
       "      <td>110.000000</td>\n",
       "      <td>2.000000</td>\n",
       "      <td>5.000000</td>\n",
       "      <td>8.000000</td>\n",
       "      <td>1.371056e+09</td>\n",
       "    </tr>\n",
       "    <tr>\n",
       "      <th>50%</th>\n",
       "      <td>100.000000</td>\n",
       "      <td>100.000000</td>\n",
       "      <td>100.0</td>\n",
       "      <td>100.0</td>\n",
       "      <td>100.000000</td>\n",
       "      <td>100.000000</td>\n",
       "      <td>100.000000</td>\n",
       "      <td>100.000000</td>\n",
       "      <td>100.000000</td>\n",
       "      <td>100.000000</td>\n",
       "      <td>...</td>\n",
       "      <td>100.0</td>\n",
       "      <td>-7423.060900</td>\n",
       "      <td>4.864852e+06</td>\n",
       "      <td>2.000000</td>\n",
       "      <td>1.000000</td>\n",
       "      <td>129.000000</td>\n",
       "      <td>2.000000</td>\n",
       "      <td>11.000000</td>\n",
       "      <td>13.000000</td>\n",
       "      <td>1.371716e+09</td>\n",
       "    </tr>\n",
       "    <tr>\n",
       "      <th>75%</th>\n",
       "      <td>100.000000</td>\n",
       "      <td>100.000000</td>\n",
       "      <td>100.0</td>\n",
       "      <td>100.0</td>\n",
       "      <td>100.000000</td>\n",
       "      <td>100.000000</td>\n",
       "      <td>100.000000</td>\n",
       "      <td>100.000000</td>\n",
       "      <td>100.000000</td>\n",
       "      <td>100.000000</td>\n",
       "      <td>...</td>\n",
       "      <td>100.0</td>\n",
       "      <td>-7359.193000</td>\n",
       "      <td>4.864930e+06</td>\n",
       "      <td>3.000000</td>\n",
       "      <td>2.000000</td>\n",
       "      <td>207.000000</td>\n",
       "      <td>2.000000</td>\n",
       "      <td>13.000000</td>\n",
       "      <td>14.000000</td>\n",
       "      <td>1.371721e+09</td>\n",
       "    </tr>\n",
       "    <tr>\n",
       "      <th>max</th>\n",
       "      <td>100.000000</td>\n",
       "      <td>100.000000</td>\n",
       "      <td>100.0</td>\n",
       "      <td>100.0</td>\n",
       "      <td>100.000000</td>\n",
       "      <td>100.000000</td>\n",
       "      <td>100.000000</td>\n",
       "      <td>100.000000</td>\n",
       "      <td>100.000000</td>\n",
       "      <td>100.000000</td>\n",
       "      <td>...</td>\n",
       "      <td>100.0</td>\n",
       "      <td>-7300.818990</td>\n",
       "      <td>4.865017e+06</td>\n",
       "      <td>4.000000</td>\n",
       "      <td>2.000000</td>\n",
       "      <td>254.000000</td>\n",
       "      <td>2.000000</td>\n",
       "      <td>18.000000</td>\n",
       "      <td>24.000000</td>\n",
       "      <td>1.371738e+09</td>\n",
       "    </tr>\n",
       "  </tbody>\n",
       "</table>\n",
       "<p>8 rows × 529 columns</p>\n",
       "</div>"
      ],
      "text/plain": [
       "             WAP001        WAP002   WAP003   WAP004        WAP005  \\\n",
       "count  19937.000000  19937.000000  19937.0  19937.0  19937.000000   \n",
       "mean      99.823644     99.820936    100.0    100.0     99.613733   \n",
       "std        5.866842      5.798156      0.0      0.0      8.615657   \n",
       "min      -97.000000    -90.000000    100.0    100.0    -97.000000   \n",
       "25%      100.000000    100.000000    100.0    100.0    100.000000   \n",
       "50%      100.000000    100.000000    100.0    100.0    100.000000   \n",
       "75%      100.000000    100.000000    100.0    100.0    100.000000   \n",
       "max      100.000000    100.000000    100.0    100.0    100.000000   \n",
       "\n",
       "             WAP006        WAP007        WAP008        WAP009        WAP010  \\\n",
       "count  19937.000000  19937.000000  19937.000000  19937.000000  19937.000000   \n",
       "mean      97.130461     94.733661     93.820234     94.693936     99.163766   \n",
       "std       22.931890     30.541335     33.010404     30.305084     12.634045   \n",
       "min      -98.000000    -99.000000    -98.000000    -98.000000    -99.000000   \n",
       "25%      100.000000    100.000000    100.000000    100.000000    100.000000   \n",
       "50%      100.000000    100.000000    100.000000    100.000000    100.000000   \n",
       "75%      100.000000    100.000000    100.000000    100.000000    100.000000   \n",
       "max      100.000000    100.000000    100.000000    100.000000    100.000000   \n",
       "\n",
       "           ...        WAP520     LONGITUDE      LATITUDE         FLOOR  \\\n",
       "count      ...       19937.0  19937.000000  1.993700e+04  19937.000000   \n",
       "mean       ...         100.0  -7464.275947  4.864871e+06      1.674575   \n",
       "std        ...           0.0    123.402010  6.693318e+01      1.223078   \n",
       "min        ...         100.0  -7691.338400  4.864746e+06      0.000000   \n",
       "25%        ...         100.0  -7594.737000  4.864821e+06      1.000000   \n",
       "50%        ...         100.0  -7423.060900  4.864852e+06      2.000000   \n",
       "75%        ...         100.0  -7359.193000  4.864930e+06      3.000000   \n",
       "max        ...         100.0  -7300.818990  4.865017e+06      4.000000   \n",
       "\n",
       "         BUILDINGID       SPACEID  RELATIVEPOSITION        USERID  \\\n",
       "count  19937.000000  19937.000000      19937.000000  19937.000000   \n",
       "mean       1.212820    148.429954          1.833024      9.068014   \n",
       "std        0.833139     58.342106          0.372964      4.988720   \n",
       "min        0.000000      1.000000          1.000000      1.000000   \n",
       "25%        0.000000    110.000000          2.000000      5.000000   \n",
       "50%        1.000000    129.000000          2.000000     11.000000   \n",
       "75%        2.000000    207.000000          2.000000     13.000000   \n",
       "max        2.000000    254.000000          2.000000     18.000000   \n",
       "\n",
       "            PHONEID     TIMESTAMP  \n",
       "count  19937.000000  1.993700e+04  \n",
       "mean      13.021869  1.371421e+09  \n",
       "std        5.362410  5.572054e+05  \n",
       "min        1.000000  1.369909e+09  \n",
       "25%        8.000000  1.371056e+09  \n",
       "50%       13.000000  1.371716e+09  \n",
       "75%       14.000000  1.371721e+09  \n",
       "max       24.000000  1.371738e+09  \n",
       "\n",
       "[8 rows x 529 columns]"
      ]
     },
     "execution_count": 5,
     "metadata": {},
     "output_type": "execute_result"
    }
   ],
   "source": [
    "training_df.describe()"
   ]
  },
  {
   "cell_type": "markdown",
   "metadata": {},
   "source": [
    "## Drop Duplicates from Dataset"
   ]
  },
  {
   "cell_type": "code",
   "execution_count": 6,
   "metadata": {},
   "outputs": [],
   "source": [
    "training_df = training_df.drop_duplicates(subset=None, keep='first', inplace=False)"
   ]
  },
  {
   "cell_type": "code",
   "execution_count": 7,
   "metadata": {},
   "outputs": [
    {
     "data": {
      "text/plain": [
       "(19300, 529)"
      ]
     },
     "execution_count": 7,
     "metadata": {},
     "output_type": "execute_result"
    }
   ],
   "source": [
    "training_df.shape"
   ]
  },
  {
   "cell_type": "code",
   "execution_count": 8,
   "metadata": {},
   "outputs": [
    {
     "data": {
      "text/html": [
       "<div>\n",
       "<style scoped>\n",
       "    .dataframe tbody tr th:only-of-type {\n",
       "        vertical-align: middle;\n",
       "    }\n",
       "\n",
       "    .dataframe tbody tr th {\n",
       "        vertical-align: top;\n",
       "    }\n",
       "\n",
       "    .dataframe thead th {\n",
       "        text-align: right;\n",
       "    }\n",
       "</style>\n",
       "<table border=\"1\" class=\"dataframe\">\n",
       "  <thead>\n",
       "    <tr style=\"text-align: right;\">\n",
       "      <th></th>\n",
       "      <th>WAP001</th>\n",
       "      <th>WAP002</th>\n",
       "      <th>WAP003</th>\n",
       "      <th>WAP004</th>\n",
       "      <th>WAP005</th>\n",
       "      <th>WAP006</th>\n",
       "      <th>WAP007</th>\n",
       "      <th>WAP008</th>\n",
       "      <th>WAP009</th>\n",
       "      <th>WAP010</th>\n",
       "      <th>...</th>\n",
       "      <th>WAP520</th>\n",
       "      <th>LONGITUDE</th>\n",
       "      <th>LATITUDE</th>\n",
       "      <th>FLOOR</th>\n",
       "      <th>BUILDINGID</th>\n",
       "      <th>SPACEID</th>\n",
       "      <th>RELATIVEPOSITION</th>\n",
       "      <th>USERID</th>\n",
       "      <th>PHONEID</th>\n",
       "      <th>TIMESTAMP</th>\n",
       "    </tr>\n",
       "  </thead>\n",
       "  <tbody>\n",
       "    <tr>\n",
       "      <th>0</th>\n",
       "      <td>100</td>\n",
       "      <td>100</td>\n",
       "      <td>100</td>\n",
       "      <td>100</td>\n",
       "      <td>100</td>\n",
       "      <td>100</td>\n",
       "      <td>100</td>\n",
       "      <td>100</td>\n",
       "      <td>100</td>\n",
       "      <td>100</td>\n",
       "      <td>...</td>\n",
       "      <td>100</td>\n",
       "      <td>-7541.264300</td>\n",
       "      <td>4.864921e+06</td>\n",
       "      <td>2</td>\n",
       "      <td>1</td>\n",
       "      <td>106</td>\n",
       "      <td>2</td>\n",
       "      <td>2</td>\n",
       "      <td>23</td>\n",
       "      <td>1371713733</td>\n",
       "    </tr>\n",
       "    <tr>\n",
       "      <th>1</th>\n",
       "      <td>100</td>\n",
       "      <td>100</td>\n",
       "      <td>100</td>\n",
       "      <td>100</td>\n",
       "      <td>100</td>\n",
       "      <td>100</td>\n",
       "      <td>100</td>\n",
       "      <td>100</td>\n",
       "      <td>100</td>\n",
       "      <td>100</td>\n",
       "      <td>...</td>\n",
       "      <td>100</td>\n",
       "      <td>-7536.621200</td>\n",
       "      <td>4.864934e+06</td>\n",
       "      <td>2</td>\n",
       "      <td>1</td>\n",
       "      <td>106</td>\n",
       "      <td>2</td>\n",
       "      <td>2</td>\n",
       "      <td>23</td>\n",
       "      <td>1371713691</td>\n",
       "    </tr>\n",
       "    <tr>\n",
       "      <th>2</th>\n",
       "      <td>100</td>\n",
       "      <td>100</td>\n",
       "      <td>100</td>\n",
       "      <td>100</td>\n",
       "      <td>100</td>\n",
       "      <td>100</td>\n",
       "      <td>100</td>\n",
       "      <td>-97</td>\n",
       "      <td>100</td>\n",
       "      <td>100</td>\n",
       "      <td>...</td>\n",
       "      <td>100</td>\n",
       "      <td>-7519.152400</td>\n",
       "      <td>4.864950e+06</td>\n",
       "      <td>2</td>\n",
       "      <td>1</td>\n",
       "      <td>103</td>\n",
       "      <td>2</td>\n",
       "      <td>2</td>\n",
       "      <td>23</td>\n",
       "      <td>1371714095</td>\n",
       "    </tr>\n",
       "    <tr>\n",
       "      <th>3</th>\n",
       "      <td>100</td>\n",
       "      <td>100</td>\n",
       "      <td>100</td>\n",
       "      <td>100</td>\n",
       "      <td>100</td>\n",
       "      <td>100</td>\n",
       "      <td>100</td>\n",
       "      <td>100</td>\n",
       "      <td>100</td>\n",
       "      <td>100</td>\n",
       "      <td>...</td>\n",
       "      <td>100</td>\n",
       "      <td>-7524.570400</td>\n",
       "      <td>4.864934e+06</td>\n",
       "      <td>2</td>\n",
       "      <td>1</td>\n",
       "      <td>102</td>\n",
       "      <td>2</td>\n",
       "      <td>2</td>\n",
       "      <td>23</td>\n",
       "      <td>1371713807</td>\n",
       "    </tr>\n",
       "    <tr>\n",
       "      <th>4</th>\n",
       "      <td>100</td>\n",
       "      <td>100</td>\n",
       "      <td>100</td>\n",
       "      <td>100</td>\n",
       "      <td>100</td>\n",
       "      <td>100</td>\n",
       "      <td>100</td>\n",
       "      <td>100</td>\n",
       "      <td>100</td>\n",
       "      <td>100</td>\n",
       "      <td>...</td>\n",
       "      <td>100</td>\n",
       "      <td>-7632.143600</td>\n",
       "      <td>4.864982e+06</td>\n",
       "      <td>0</td>\n",
       "      <td>0</td>\n",
       "      <td>122</td>\n",
       "      <td>2</td>\n",
       "      <td>11</td>\n",
       "      <td>13</td>\n",
       "      <td>1369909710</td>\n",
       "    </tr>\n",
       "    <tr>\n",
       "      <th>5</th>\n",
       "      <td>100</td>\n",
       "      <td>100</td>\n",
       "      <td>100</td>\n",
       "      <td>100</td>\n",
       "      <td>100</td>\n",
       "      <td>100</td>\n",
       "      <td>100</td>\n",
       "      <td>100</td>\n",
       "      <td>100</td>\n",
       "      <td>100</td>\n",
       "      <td>...</td>\n",
       "      <td>100</td>\n",
       "      <td>-7533.896200</td>\n",
       "      <td>4.864939e+06</td>\n",
       "      <td>2</td>\n",
       "      <td>1</td>\n",
       "      <td>105</td>\n",
       "      <td>2</td>\n",
       "      <td>2</td>\n",
       "      <td>23</td>\n",
       "      <td>1371713841</td>\n",
       "    </tr>\n",
       "    <tr>\n",
       "      <th>6</th>\n",
       "      <td>100</td>\n",
       "      <td>100</td>\n",
       "      <td>100</td>\n",
       "      <td>100</td>\n",
       "      <td>100</td>\n",
       "      <td>100</td>\n",
       "      <td>100</td>\n",
       "      <td>100</td>\n",
       "      <td>100</td>\n",
       "      <td>100</td>\n",
       "      <td>...</td>\n",
       "      <td>100</td>\n",
       "      <td>-7519.152400</td>\n",
       "      <td>4.864950e+06</td>\n",
       "      <td>2</td>\n",
       "      <td>1</td>\n",
       "      <td>103</td>\n",
       "      <td>2</td>\n",
       "      <td>2</td>\n",
       "      <td>23</td>\n",
       "      <td>1371713883</td>\n",
       "    </tr>\n",
       "    <tr>\n",
       "      <th>7</th>\n",
       "      <td>100</td>\n",
       "      <td>100</td>\n",
       "      <td>100</td>\n",
       "      <td>100</td>\n",
       "      <td>100</td>\n",
       "      <td>100</td>\n",
       "      <td>100</td>\n",
       "      <td>100</td>\n",
       "      <td>100</td>\n",
       "      <td>100</td>\n",
       "      <td>...</td>\n",
       "      <td>100</td>\n",
       "      <td>-7527.451100</td>\n",
       "      <td>4.864929e+06</td>\n",
       "      <td>2</td>\n",
       "      <td>1</td>\n",
       "      <td>101</td>\n",
       "      <td>2</td>\n",
       "      <td>2</td>\n",
       "      <td>23</td>\n",
       "      <td>1371713775</td>\n",
       "    </tr>\n",
       "    <tr>\n",
       "      <th>8</th>\n",
       "      <td>100</td>\n",
       "      <td>100</td>\n",
       "      <td>100</td>\n",
       "      <td>100</td>\n",
       "      <td>100</td>\n",
       "      <td>100</td>\n",
       "      <td>100</td>\n",
       "      <td>100</td>\n",
       "      <td>100</td>\n",
       "      <td>100</td>\n",
       "      <td>...</td>\n",
       "      <td>100</td>\n",
       "      <td>-7559.497300</td>\n",
       "      <td>4.864888e+06</td>\n",
       "      <td>2</td>\n",
       "      <td>1</td>\n",
       "      <td>112</td>\n",
       "      <td>2</td>\n",
       "      <td>2</td>\n",
       "      <td>23</td>\n",
       "      <td>1371714307</td>\n",
       "    </tr>\n",
       "    <tr>\n",
       "      <th>9</th>\n",
       "      <td>100</td>\n",
       "      <td>100</td>\n",
       "      <td>100</td>\n",
       "      <td>100</td>\n",
       "      <td>100</td>\n",
       "      <td>100</td>\n",
       "      <td>100</td>\n",
       "      <td>100</td>\n",
       "      <td>100</td>\n",
       "      <td>100</td>\n",
       "      <td>...</td>\n",
       "      <td>100</td>\n",
       "      <td>-7510.437173</td>\n",
       "      <td>4.864949e+06</td>\n",
       "      <td>2</td>\n",
       "      <td>1</td>\n",
       "      <td>103</td>\n",
       "      <td>1</td>\n",
       "      <td>2</td>\n",
       "      <td>23</td>\n",
       "      <td>1371714128</td>\n",
       "    </tr>\n",
       "  </tbody>\n",
       "</table>\n",
       "<p>10 rows × 529 columns</p>\n",
       "</div>"
      ],
      "text/plain": [
       "   WAP001  WAP002  WAP003  WAP004  WAP005  WAP006  WAP007  WAP008  WAP009  \\\n",
       "0     100     100     100     100     100     100     100     100     100   \n",
       "1     100     100     100     100     100     100     100     100     100   \n",
       "2     100     100     100     100     100     100     100     -97     100   \n",
       "3     100     100     100     100     100     100     100     100     100   \n",
       "4     100     100     100     100     100     100     100     100     100   \n",
       "5     100     100     100     100     100     100     100     100     100   \n",
       "6     100     100     100     100     100     100     100     100     100   \n",
       "7     100     100     100     100     100     100     100     100     100   \n",
       "8     100     100     100     100     100     100     100     100     100   \n",
       "9     100     100     100     100     100     100     100     100     100   \n",
       "\n",
       "   WAP010     ...      WAP520    LONGITUDE      LATITUDE  FLOOR  BUILDINGID  \\\n",
       "0     100     ...         100 -7541.264300  4.864921e+06      2           1   \n",
       "1     100     ...         100 -7536.621200  4.864934e+06      2           1   \n",
       "2     100     ...         100 -7519.152400  4.864950e+06      2           1   \n",
       "3     100     ...         100 -7524.570400  4.864934e+06      2           1   \n",
       "4     100     ...         100 -7632.143600  4.864982e+06      0           0   \n",
       "5     100     ...         100 -7533.896200  4.864939e+06      2           1   \n",
       "6     100     ...         100 -7519.152400  4.864950e+06      2           1   \n",
       "7     100     ...         100 -7527.451100  4.864929e+06      2           1   \n",
       "8     100     ...         100 -7559.497300  4.864888e+06      2           1   \n",
       "9     100     ...         100 -7510.437173  4.864949e+06      2           1   \n",
       "\n",
       "   SPACEID  RELATIVEPOSITION  USERID  PHONEID   TIMESTAMP  \n",
       "0      106                 2       2       23  1371713733  \n",
       "1      106                 2       2       23  1371713691  \n",
       "2      103                 2       2       23  1371714095  \n",
       "3      102                 2       2       23  1371713807  \n",
       "4      122                 2      11       13  1369909710  \n",
       "5      105                 2       2       23  1371713841  \n",
       "6      103                 2       2       23  1371713883  \n",
       "7      101                 2       2       23  1371713775  \n",
       "8      112                 2       2       23  1371714307  \n",
       "9      103                 1       2       23  1371714128  \n",
       "\n",
       "[10 rows x 529 columns]"
      ]
     },
     "execution_count": 8,
     "metadata": {},
     "output_type": "execute_result"
    }
   ],
   "source": [
    "training_df.head(10)"
   ]
  },
  {
   "cell_type": "markdown",
   "metadata": {},
   "source": [
    "## Setting Timestamp"
   ]
  },
  {
   "cell_type": "code",
   "execution_count": 9,
   "metadata": {},
   "outputs": [],
   "source": [
    "#The unix time stamp is a way to track time as a running total of seconds. This count starts at the Unix Epoch \n",
    "#on January 1st, 1970 at UTC. Therefore, the unix time stamp is merely the number of seconds between a particular \n",
    "#date and the Unix Epoch\n",
    "training_df['TIMESTAMP'] = pd.to_datetime(training_df['TIMESTAMP'] , unit='s')\n",
    "validation_df['TIMESTAMP'] = pd.to_datetime(validation_df['TIMESTAMP'] , unit='s')"
   ]
  },
  {
   "cell_type": "code",
   "execution_count": 10,
   "metadata": {},
   "outputs": [
    {
     "data": {
      "text/plain": [
       "0   2013-06-20 07:35:33\n",
       "1   2013-06-20 07:34:51\n",
       "2   2013-06-20 07:41:35\n",
       "Name: TIMESTAMP, dtype: datetime64[ns]"
      ]
     },
     "execution_count": 10,
     "metadata": {},
     "output_type": "execute_result"
    }
   ],
   "source": [
    "training_df['TIMESTAMP'].head(3)"
   ]
  },
  {
   "cell_type": "markdown",
   "metadata": {},
   "source": [
    "## Data normalisation & visualisation"
   ]
  },
  {
   "cell_type": "code",
   "execution_count": 11,
   "metadata": {},
   "outputs": [
    {
     "data": {
      "text/html": [
       "<div>\n",
       "<style scoped>\n",
       "    .dataframe tbody tr th:only-of-type {\n",
       "        vertical-align: middle;\n",
       "    }\n",
       "\n",
       "    .dataframe tbody tr th {\n",
       "        vertical-align: top;\n",
       "    }\n",
       "\n",
       "    .dataframe thead th {\n",
       "        text-align: right;\n",
       "    }\n",
       "</style>\n",
       "<table border=\"1\" class=\"dataframe\">\n",
       "  <thead>\n",
       "    <tr style=\"text-align: right;\">\n",
       "      <th></th>\n",
       "      <th>FLOOR</th>\n",
       "      <th>BUILDINGID</th>\n",
       "      <th>SPACEID</th>\n",
       "      <th>RELATIVEPOSITION</th>\n",
       "      <th>USERID</th>\n",
       "      <th>PHONEID</th>\n",
       "    </tr>\n",
       "  </thead>\n",
       "  <tbody>\n",
       "    <tr>\n",
       "      <th>count</th>\n",
       "      <td>19300</td>\n",
       "      <td>19300</td>\n",
       "      <td>19300</td>\n",
       "      <td>19300</td>\n",
       "      <td>19300</td>\n",
       "      <td>19300</td>\n",
       "    </tr>\n",
       "    <tr>\n",
       "      <th>unique</th>\n",
       "      <td>5</td>\n",
       "      <td>3</td>\n",
       "      <td>123</td>\n",
       "      <td>2</td>\n",
       "      <td>18</td>\n",
       "      <td>16</td>\n",
       "    </tr>\n",
       "    <tr>\n",
       "      <th>top</th>\n",
       "      <td>3</td>\n",
       "      <td>2</td>\n",
       "      <td>202</td>\n",
       "      <td>2</td>\n",
       "      <td>11</td>\n",
       "      <td>14</td>\n",
       "    </tr>\n",
       "    <tr>\n",
       "      <th>freq</th>\n",
       "      <td>5041</td>\n",
       "      <td>9116</td>\n",
       "      <td>484</td>\n",
       "      <td>15991</td>\n",
       "      <td>4516</td>\n",
       "      <td>4827</td>\n",
       "    </tr>\n",
       "  </tbody>\n",
       "</table>\n",
       "</div>"
      ],
      "text/plain": [
       "        FLOOR BUILDINGID SPACEID RELATIVEPOSITION USERID PHONEID\n",
       "count   19300      19300   19300            19300  19300   19300\n",
       "unique      5          3     123                2     18      16\n",
       "top         3          2     202                2     11      14\n",
       "freq     5041       9116     484            15991   4516    4827"
      ]
     },
     "execution_count": 11,
     "metadata": {},
     "output_type": "execute_result"
    }
   ],
   "source": [
    "# Response variables in our problem are Building, Floor, Latitude, Longitude and Relative Position\n",
    "(training_df[['FLOOR','BUILDINGID', 'SPACEID','RELATIVEPOSITION','USERID','PHONEID']]\n",
    ".astype(str)\n",
    ".describe(include=['object']))"
   ]
  },
  {
   "cell_type": "code",
   "execution_count": 12,
   "metadata": {},
   "outputs": [],
   "source": [
    "#Split dependant variables (long, lat, floor, building, space, position) from independant variables (WAP's)\n",
    "X_train = training_df.iloc[:,:520] #iloc is index location i.e. row number #get all rows for columns until 520\n",
    "X_validation = validation_df.iloc[:,:520] \n",
    "\n",
    "Y_train = training_df.iloc[:,520:526] #get all the columns from 520 to 526\n",
    "Y_validation = validation_df.iloc[:,520:526]"
   ]
  },
  {
   "cell_type": "code",
   "execution_count": 13,
   "metadata": {},
   "outputs": [
    {
     "data": {
      "text/html": [
       "<div>\n",
       "<style scoped>\n",
       "    .dataframe tbody tr th:only-of-type {\n",
       "        vertical-align: middle;\n",
       "    }\n",
       "\n",
       "    .dataframe tbody tr th {\n",
       "        vertical-align: top;\n",
       "    }\n",
       "\n",
       "    .dataframe thead th {\n",
       "        text-align: right;\n",
       "    }\n",
       "</style>\n",
       "<table border=\"1\" class=\"dataframe\">\n",
       "  <thead>\n",
       "    <tr style=\"text-align: right;\">\n",
       "      <th></th>\n",
       "      <th>WAP001</th>\n",
       "      <th>WAP002</th>\n",
       "      <th>WAP003</th>\n",
       "      <th>WAP004</th>\n",
       "      <th>WAP005</th>\n",
       "      <th>WAP006</th>\n",
       "      <th>WAP007</th>\n",
       "      <th>WAP008</th>\n",
       "      <th>WAP009</th>\n",
       "      <th>WAP010</th>\n",
       "      <th>...</th>\n",
       "      <th>WAP511</th>\n",
       "      <th>WAP512</th>\n",
       "      <th>WAP513</th>\n",
       "      <th>WAP514</th>\n",
       "      <th>WAP515</th>\n",
       "      <th>WAP516</th>\n",
       "      <th>WAP517</th>\n",
       "      <th>WAP518</th>\n",
       "      <th>WAP519</th>\n",
       "      <th>WAP520</th>\n",
       "    </tr>\n",
       "  </thead>\n",
       "  <tbody>\n",
       "    <tr>\n",
       "      <th>0</th>\n",
       "      <td>100</td>\n",
       "      <td>100</td>\n",
       "      <td>100</td>\n",
       "      <td>100</td>\n",
       "      <td>100</td>\n",
       "      <td>100</td>\n",
       "      <td>100</td>\n",
       "      <td>100</td>\n",
       "      <td>100</td>\n",
       "      <td>100</td>\n",
       "      <td>...</td>\n",
       "      <td>100</td>\n",
       "      <td>100</td>\n",
       "      <td>100</td>\n",
       "      <td>100</td>\n",
       "      <td>100</td>\n",
       "      <td>100</td>\n",
       "      <td>100</td>\n",
       "      <td>100</td>\n",
       "      <td>100</td>\n",
       "      <td>100</td>\n",
       "    </tr>\n",
       "    <tr>\n",
       "      <th>1</th>\n",
       "      <td>100</td>\n",
       "      <td>100</td>\n",
       "      <td>100</td>\n",
       "      <td>100</td>\n",
       "      <td>100</td>\n",
       "      <td>100</td>\n",
       "      <td>100</td>\n",
       "      <td>100</td>\n",
       "      <td>100</td>\n",
       "      <td>100</td>\n",
       "      <td>...</td>\n",
       "      <td>100</td>\n",
       "      <td>100</td>\n",
       "      <td>100</td>\n",
       "      <td>100</td>\n",
       "      <td>100</td>\n",
       "      <td>100</td>\n",
       "      <td>100</td>\n",
       "      <td>100</td>\n",
       "      <td>100</td>\n",
       "      <td>100</td>\n",
       "    </tr>\n",
       "  </tbody>\n",
       "</table>\n",
       "<p>2 rows × 520 columns</p>\n",
       "</div>"
      ],
      "text/plain": [
       "   WAP001  WAP002  WAP003  WAP004  WAP005  WAP006  WAP007  WAP008  WAP009  \\\n",
       "0     100     100     100     100     100     100     100     100     100   \n",
       "1     100     100     100     100     100     100     100     100     100   \n",
       "\n",
       "   WAP010   ...    WAP511  WAP512  WAP513  WAP514  WAP515  WAP516  WAP517  \\\n",
       "0     100   ...       100     100     100     100     100     100     100   \n",
       "1     100   ...       100     100     100     100     100     100     100   \n",
       "\n",
       "   WAP518  WAP519  WAP520  \n",
       "0     100     100     100  \n",
       "1     100     100     100  \n",
       "\n",
       "[2 rows x 520 columns]"
      ]
     },
     "execution_count": 13,
     "metadata": {},
     "output_type": "execute_result"
    }
   ],
   "source": [
    "X_train.head(2)"
   ]
  },
  {
   "cell_type": "code",
   "execution_count": 14,
   "metadata": {},
   "outputs": [],
   "source": [
    "#Removing all WAP's +100 as they are not detected, and they interfer with the analysis\n",
    "X_train = (X_train\n",
    "             .replace(to_replace=100,value=np.nan))\n",
    "\n",
    "# Perform the same transform on Test data\n",
    "X_validation = (X_validation\n",
    "             .replace(to_replace=100,value=np.nan))"
   ]
  },
  {
   "cell_type": "code",
   "execution_count": 15,
   "metadata": {},
   "outputs": [],
   "source": [
    "X_stack = X_train.stack(dropna=False) #Stack creates a pivot table"
   ]
  },
  {
   "cell_type": "code",
   "execution_count": 16,
   "metadata": {},
   "outputs": [
    {
     "data": {
      "text/plain": [
       "0  WAP001   NaN\n",
       "   WAP002   NaN\n",
       "   WAP003   NaN\n",
       "   WAP004   NaN\n",
       "   WAP005   NaN\n",
       "dtype: float64"
      ]
     },
     "execution_count": 16,
     "metadata": {},
     "output_type": "execute_result"
    }
   ],
   "source": [
    "X_stack.head(5)"
   ]
  },
  {
   "cell_type": "code",
   "execution_count": 17,
   "metadata": {},
   "outputs": [
    {
     "data": {
      "text/plain": [
       "<matplotlib.axes._subplots.AxesSubplot at 0x1116ed2e8>"
      ]
     },
     "execution_count": 17,
     "metadata": {},
     "output_type": "execute_result"
    },
    {
     "data": {
      "image/png": "[encoded data removed]",
      "text/plain": [
       "<Figure size 432x288 with 1 Axes>"
      ]
     },
     "metadata": {
      "needs_background": "light"
     },
     "output_type": "display_data"
    }
   ],
   "source": [
    "sns.distplot(X_stack.dropna(),kde = False) # removed all NaN values #density: how many observations were at that range"
   ]
  },
  {
   "cell_type": "markdown",
   "metadata": {},
   "source": [
    "The majority of the dBm (decibels relative to one milliwatt) lies between -90 & -70."
   ]
  },
  {
   "cell_type": "code",
   "execution_count": 18,
   "metadata": {},
   "outputs": [
    {
     "data": {
      "text/plain": [
       "0.03438421681944998"
      ]
     },
     "execution_count": 18,
     "metadata": {},
     "output_type": "execute_result"
    }
   ],
   "source": [
    "# Proportion of out of range values +100 \n",
    "sum(X_stack.isnull() == 0)/len(X_stack)\n",
    "# 96.6% of WAP's are out of range"
   ]
  },
  {
   "cell_type": "code",
   "execution_count": 19,
   "metadata": {},
   "outputs": [
    {
     "data": {
      "text/plain": [
       "Text(0.5, 0, 'Number of APs in range')"
      ]
     },
     "execution_count": 19,
     "metadata": {},
     "output_type": "execute_result"
    },
    {
     "data": {
      "image/png": "[encoded data removed]",
      "text/plain": [
       "<Figure size 432x288 with 1 Axes>"
      ]
     },
     "metadata": {
      "needs_background": "light"
     },
     "output_type": "display_data"
    }
   ],
   "source": [
    "# WAP's which are in range\n",
    "waps_in_range = (X_train\n",
    "                 .notnull()\n",
    "                 .sum(axis = 1))\n",
    "\n",
    "fig, ax = plt.subplots(1,1)\n",
    "\n",
    "sns.distplot(waps_in_range, ax = ax)\n",
    "ax.set_xlabel(\"Number of APs in range\")"
   ]
  },
  {
   "cell_type": "markdown",
   "metadata": {},
   "source": [
    "Majority of the WAP's in range are between 10 & 20, with some as many as 50 WAP's in range."
   ]
  },
  {
   "cell_type": "code",
   "execution_count": 20,
   "metadata": {},
   "outputs": [],
   "source": [
    "# Remove data with 0 WAP's in range\n",
    "Y_train = (Y_train\n",
    "          .loc[X_train #get the rows\n",
    "              .notnull() #where it is not null\n",
    "              .any(axis=1),:])\n",
    "\n",
    "X_train = (X_train\n",
    "           .loc[X_train\n",
    "                .notnull()\n",
    "                .any(axis=1),:])"
   ]
  },
  {
   "cell_type": "code",
   "execution_count": 21,
   "metadata": {},
   "outputs": [],
   "source": [
    "# Removing columns with all NaN values\n",
    "all_nan = (X_train\n",
    "           .isnull()\n",
    "           .all(axis=0) == False)\n",
    "filtered_cols = (all_nan[all_nan]\n",
    "                 .index\n",
    "                 .values)\n",
    "\n",
    "X_train = X_train.loc[:,filtered_cols]\n",
    "X_validation = X_validation.loc[:,filtered_cols]"
   ]
  },
  {
   "cell_type": "code",
   "execution_count": 22,
   "metadata": {},
   "outputs": [
    {
     "data": {
      "text/plain": [
       "<matplotlib.axes._subplots.AxesSubplot at 0x10d2c0c18>"
      ]
     },
     "execution_count": 22,
     "metadata": {},
     "output_type": "execute_result"
    },
    {
     "data": {
      "image/png": "[encoded data removed]",
      "text/plain": [
       "<Figure size 432x288 with 1 Axes>"
      ]
     },
     "metadata": {
      "needs_background": "light"
     },
     "output_type": "display_data"
    }
   ],
   "source": [
    "# Finding skewness\n",
    "X_skew = X_train.skew()\n",
    "\n",
    "sns.distplot(X_skew.dropna(),kde=False)"
   ]
  },
  {
   "cell_type": "markdown",
   "metadata": {},
   "source": [
    "Generally a positive skewness can be observed between 0 & 1"
   ]
  },
  {
   "cell_type": "code",
   "execution_count": 23,
   "metadata": {},
   "outputs": [
    {
     "name": "stdout",
     "output_type": "stream",
     "text": [
      "5.011872336272715e-11\n"
     ]
    }
   ],
   "source": [
    "#Normalizing the data and replaceing the NA's with the minimum RSSI value\n",
    "X_exp_train = np.power(10,X_train/10,)\n",
    "X_exp_validation = np.power(10,X_validation/10)\n",
    "\n",
    "abs_min = (X_exp_train.apply(min).min())\n",
    "print(abs_min)\n",
    "\n",
    "X_exp_train.fillna(abs_min,inplace=True)\n",
    "X_exp_validation.fillna(abs_min,inplace=True)"
   ]
  },
  {
   "cell_type": "code",
   "execution_count": 24,
   "metadata": {},
   "outputs": [
    {
     "data": {
      "text/html": [
       "<div>\n",
       "<style scoped>\n",
       "    .dataframe tbody tr th:only-of-type {\n",
       "        vertical-align: middle;\n",
       "    }\n",
       "\n",
       "    .dataframe tbody tr th {\n",
       "        vertical-align: top;\n",
       "    }\n",
       "\n",
       "    .dataframe thead th {\n",
       "        text-align: right;\n",
       "    }\n",
       "</style>\n",
       "<table border=\"1\" class=\"dataframe\">\n",
       "  <thead>\n",
       "    <tr style=\"text-align: right;\">\n",
       "      <th></th>\n",
       "      <th>Sample_Size</th>\n",
       "      <th>Skewness</th>\n",
       "      <th>Kurtosis</th>\n",
       "    </tr>\n",
       "  </thead>\n",
       "  <tbody>\n",
       "    <tr>\n",
       "      <th>WAP001</th>\n",
       "      <td>18</td>\n",
       "      <td>37.679528</td>\n",
       "      <td>1539.006258</td>\n",
       "    </tr>\n",
       "    <tr>\n",
       "      <th>WAP002</th>\n",
       "      <td>19</td>\n",
       "      <td>38.149577</td>\n",
       "      <td>1520.127029</td>\n",
       "    </tr>\n",
       "    <tr>\n",
       "      <th>WAP005</th>\n",
       "      <td>40</td>\n",
       "      <td>29.213423</td>\n",
       "      <td>956.335017</td>\n",
       "    </tr>\n",
       "    <tr>\n",
       "      <th>WAP006</th>\n",
       "      <td>308</td>\n",
       "      <td>48.411222</td>\n",
       "      <td>2564.925279</td>\n",
       "    </tr>\n",
       "    <tr>\n",
       "      <th>WAP007</th>\n",
       "      <td>578</td>\n",
       "      <td>47.423077</td>\n",
       "      <td>2462.998176</td>\n",
       "    </tr>\n",
       "    <tr>\n",
       "      <th>WAP008</th>\n",
       "      <td>603</td>\n",
       "      <td>23.169886</td>\n",
       "      <td>624.029531</td>\n",
       "    </tr>\n",
       "    <tr>\n",
       "      <th>WAP009</th>\n",
       "      <td>595</td>\n",
       "      <td>36.348336</td>\n",
       "      <td>1556.147531</td>\n",
       "    </tr>\n",
       "    <tr>\n",
       "      <th>WAP010</th>\n",
       "      <td>62</td>\n",
       "      <td>39.215175</td>\n",
       "      <td>1661.902874</td>\n",
       "    </tr>\n",
       "    <tr>\n",
       "      <th>WAP011</th>\n",
       "      <td>2756</td>\n",
       "      <td>89.906646</td>\n",
       "      <td>8469.977106</td>\n",
       "    </tr>\n",
       "    <tr>\n",
       "      <th>WAP012</th>\n",
       "      <td>2783</td>\n",
       "      <td>45.956507</td>\n",
       "      <td>2116.464764</td>\n",
       "    </tr>\n",
       "    <tr>\n",
       "      <th>WAP013</th>\n",
       "      <td>1975</td>\n",
       "      <td>40.962458</td>\n",
       "      <td>2153.609782</td>\n",
       "    </tr>\n",
       "    <tr>\n",
       "      <th>WAP014</th>\n",
       "      <td>1955</td>\n",
       "      <td>41.192678</td>\n",
       "      <td>2138.147233</td>\n",
       "    </tr>\n",
       "    <tr>\n",
       "      <th>WAP015</th>\n",
       "      <td>905</td>\n",
       "      <td>18.338033</td>\n",
       "      <td>408.803156</td>\n",
       "    </tr>\n",
       "    <tr>\n",
       "      <th>WAP016</th>\n",
       "      <td>921</td>\n",
       "      <td>20.978931</td>\n",
       "      <td>529.707305</td>\n",
       "    </tr>\n",
       "    <tr>\n",
       "      <th>WAP017</th>\n",
       "      <td>84</td>\n",
       "      <td>23.713342</td>\n",
       "      <td>641.071886</td>\n",
       "    </tr>\n",
       "  </tbody>\n",
       "</table>\n",
       "</div>"
      ],
      "text/plain": [
       "        Sample_Size   Skewness     Kurtosis\n",
       "WAP001           18  37.679528  1539.006258\n",
       "WAP002           19  38.149577  1520.127029\n",
       "WAP005           40  29.213423   956.335017\n",
       "WAP006          308  48.411222  2564.925279\n",
       "WAP007          578  47.423077  2462.998176\n",
       "WAP008          603  23.169886   624.029531\n",
       "WAP009          595  36.348336  1556.147531\n",
       "WAP010           62  39.215175  1661.902874\n",
       "WAP011         2756  89.906646  8469.977106\n",
       "WAP012         2783  45.956507  2116.464764\n",
       "WAP013         1975  40.962458  2153.609782\n",
       "WAP014         1955  41.192678  2138.147233\n",
       "WAP015          905  18.338033   408.803156\n",
       "WAP016          921  20.978931   529.707305\n",
       "WAP017           84  23.713342   641.071886"
      ]
     },
     "execution_count": 24,
     "metadata": {},
     "output_type": "execute_result"
    }
   ],
   "source": [
    "#Describe the distribution \n",
    "def skew_score(s):\n",
    "    return float(skew(s).data) #The average skewness (positive is positive skewness and vice verse)\n",
    "\n",
    "def kurtosis_score(s):\n",
    "    return kurtosis(s) #The probability in the tails (how likely it is to be extreme in the distribution)\n",
    "\n",
    "def in_range(s):\n",
    "    return (s > abs_min).sum()\n",
    "\n",
    "X_norm = pd.DataFrame({'Sample_Size': X_exp_train.apply(in_range),\n",
    "                         'Skewness': X_exp_train.apply(skew_score),\n",
    "                         'Kurtosis': X_exp_train.apply(kurtosis_score),\n",
    "                        })\n",
    "\n",
    "X_norm.head(15)"
   ]
  },
  {
   "cell_type": "code",
   "execution_count": 25,
   "metadata": {},
   "outputs": [
    {
     "data": {
      "text/plain": [
       "<seaborn.axisgrid.JointGrid at 0x111996518>"
      ]
     },
     "execution_count": 25,
     "metadata": {},
     "output_type": "execute_result"
    },
    {
     "data": {
      "image/png": "[encoded data removed]",
      "text/plain": [
       "<Figure size 432x432 with 3 Axes>"
      ]
     },
     "metadata": {
      "needs_background": "light"
     },
     "output_type": "display_data"
    }
   ],
   "source": [
    "sns.jointplot(y=\"Kurtosis\", x=\"Skewness\", stat_func= None, data=X_norm)"
   ]
  },
  {
   "cell_type": "markdown",
   "metadata": {},
   "source": [
    "The higher the skewness, the significantly higher kurtosis, which means that there are a few columns that have extremly heavy tails, more so than a normal distribution. (Alot of data in the tails of some points)"
   ]
  },
  {
   "cell_type": "code",
   "execution_count": 26,
   "metadata": {},
   "outputs": [],
   "source": [
    "#Box-Cox Transformation which is used to transform a skewed distribution to a normal distribution\n",
    "def box_cox_lambda(s):\n",
    "    _, maxlog = stats.boxcox(s)\n",
    "    return maxlog\n",
    "\n",
    "lambda_bc = X_exp_train.apply(box_cox_lambda)\n",
    "\n",
    "X_boxcox_train = X_exp_train\n",
    "X_boxcox_validation = X_exp_validation\n",
    "\n",
    "for wap in X_boxcox_train:\n",
    " \n",
    "    X_boxcox_train.loc[:,wap] = stats.boxcox(X_exp_train.loc[:,wap],lmbda = lambda_bc.loc[wap])\n",
    "    \n",
    "    X_boxcox_validation.loc[:,wap] = stats.boxcox(X_exp_validation.loc[:,wap],lmbda = lambda_bc.loc[wap])"
   ]
  },
  {
   "cell_type": "code",
   "execution_count": 27,
   "metadata": {},
   "outputs": [
    {
     "data": {
      "text/html": [
       "<div>\n",
       "<style scoped>\n",
       "    .dataframe tbody tr th:only-of-type {\n",
       "        vertical-align: middle;\n",
       "    }\n",
       "\n",
       "    .dataframe tbody tr th {\n",
       "        vertical-align: top;\n",
       "    }\n",
       "\n",
       "    .dataframe thead th {\n",
       "        text-align: right;\n",
       "    }\n",
       "</style>\n",
       "<table border=\"1\" class=\"dataframe\">\n",
       "  <thead>\n",
       "    <tr style=\"text-align: right;\">\n",
       "      <th></th>\n",
       "      <th>Skewness</th>\n",
       "      <th>Kurtosis</th>\n",
       "      <th>BoxCox_Lambda</th>\n",
       "    </tr>\n",
       "  </thead>\n",
       "  <tbody>\n",
       "    <tr>\n",
       "      <th>WAP001</th>\n",
       "      <td>0.000000</td>\n",
       "      <td>-3</td>\n",
       "      <td>1.994948</td>\n",
       "    </tr>\n",
       "    <tr>\n",
       "      <th>WAP002</th>\n",
       "      <td>0.000000</td>\n",
       "      <td>-3</td>\n",
       "      <td>1.994948</td>\n",
       "    </tr>\n",
       "    <tr>\n",
       "      <th>WAP005</th>\n",
       "      <td>0.000000</td>\n",
       "      <td>-3</td>\n",
       "      <td>1.994948</td>\n",
       "    </tr>\n",
       "    <tr>\n",
       "      <th>WAP006</th>\n",
       "      <td>0.000000</td>\n",
       "      <td>--</td>\n",
       "      <td>-15.078907</td>\n",
       "    </tr>\n",
       "    <tr>\n",
       "      <th>WAP007</th>\n",
       "      <td>5.504153</td>\n",
       "      <td>28.2957</td>\n",
       "      <td>-6.766723</td>\n",
       "    </tr>\n",
       "    <tr>\n",
       "      <th>WAP008</th>\n",
       "      <td>5.377541</td>\n",
       "      <td>26.9179</td>\n",
       "      <td>-7.013787</td>\n",
       "    </tr>\n",
       "    <tr>\n",
       "      <th>WAP009</th>\n",
       "      <td>5.417215</td>\n",
       "      <td>27.3462</td>\n",
       "      <td>-5.567161</td>\n",
       "    </tr>\n",
       "    <tr>\n",
       "      <th>WAP010</th>\n",
       "      <td>0.000000</td>\n",
       "      <td>-3</td>\n",
       "      <td>1.994948</td>\n",
       "    </tr>\n",
       "    <tr>\n",
       "      <th>WAP011</th>\n",
       "      <td>2.044240</td>\n",
       "      <td>2.18865</td>\n",
       "      <td>-1.017587</td>\n",
       "    </tr>\n",
       "    <tr>\n",
       "      <th>WAP012</th>\n",
       "      <td>2.026338</td>\n",
       "      <td>2.11425</td>\n",
       "      <td>-1.010660</td>\n",
       "    </tr>\n",
       "  </tbody>\n",
       "</table>\n",
       "</div>"
      ],
      "text/plain": [
       "        Skewness Kurtosis  BoxCox_Lambda\n",
       "WAP001  0.000000       -3       1.994948\n",
       "WAP002  0.000000       -3       1.994948\n",
       "WAP005  0.000000       -3       1.994948\n",
       "WAP006  0.000000       --     -15.078907\n",
       "WAP007  5.504153  28.2957      -6.766723\n",
       "WAP008  5.377541  26.9179      -7.013787\n",
       "WAP009  5.417215  27.3462      -5.567161\n",
       "WAP010  0.000000       -3       1.994948\n",
       "WAP011  2.044240  2.18865      -1.017587\n",
       "WAP012  2.026338  2.11425      -1.010660"
      ]
     },
     "execution_count": 27,
     "metadata": {},
     "output_type": "execute_result"
    }
   ],
   "source": [
    "# After Box-Cox #to create the normal distribution\n",
    "X_norm_post_boxcox = pd.DataFrame({'Skewness': X_boxcox_train.apply(skew_score),\n",
    "                         'Kurtosis': X_boxcox_train.apply(kurtosis_score),\n",
    "                         'BoxCox_Lambda': lambda_bc})\n",
    "\n",
    "X_norm_post_boxcox.head(10)"
   ]
  },
  {
   "cell_type": "code",
   "execution_count": 28,
   "metadata": {},
   "outputs": [
    {
     "data": {
      "text/plain": [
       "Text(0.5, 1.0, 'Post- Box-Cox')"
      ]
     },
     "execution_count": 28,
     "metadata": {},
     "output_type": "execute_result"
    },
    {
     "data": {
      "image/png": "[encoded data removed]",
      "text/plain": [
       "<Figure size 432x288 with 2 Axes>"
      ]
     },
     "metadata": {
      "needs_background": "light"
     },
     "output_type": "display_data"
    }
   ],
   "source": [
    "#Plot before and after skewness\n",
    "fig, (ax1,ax2) = plt.subplots(1,2)\n",
    "\n",
    "ax1.scatter(y=\"Kurtosis\", x=\"Skewness\", data=X_norm)\n",
    "ax1.set_xlabel(\"Skewness\")\n",
    "ax1.set_ylabel(\"Kurtosis\")\n",
    "ax1.set_title(\"Pre- Box-Cox\")\n",
    "\n",
    "ax2.scatter(y=\"Kurtosis\", x=\"Skewness\", data=X_norm_post_boxcox)\n",
    "ax2.set_xlabel(\"Skewness\")\n",
    "ax2.set_ylabel(\"Kurtosis\")\n",
    "ax2.set_title(\"Post- Box-Cox\")"
   ]
  },
  {
   "cell_type": "code",
   "execution_count": 29,
   "metadata": {},
   "outputs": [
    {
     "ename": "MaskError",
     "evalue": "Cannot convert masked element to a Python int.",
     "output_type": "error",
     "traceback": [
      "\u001b[0;31m---------------------------------------------------------------------------\u001b[0m",
      "\u001b[0;31mMaskError\u001b[0m                                 Traceback (most recent call last)",
      "\u001b[0;32m<ipython-input-29-66b76da71396>\u001b[0m in \u001b[0;36m<module>\u001b[0;34m\u001b[0m\n\u001b[0;32m----> 1\u001b[0;31m \u001b[0msns\u001b[0m\u001b[0;34m.\u001b[0m\u001b[0mjointplot\u001b[0m\u001b[0;34m(\u001b[0m\u001b[0my\u001b[0m\u001b[0;34m=\u001b[0m\u001b[0;34m\"Kurtosis\"\u001b[0m\u001b[0;34m,\u001b[0m \u001b[0mx\u001b[0m\u001b[0;34m=\u001b[0m\u001b[0;34m\"Skewness\"\u001b[0m\u001b[0;34m,\u001b[0m \u001b[0mstat_func\u001b[0m \u001b[0;34m=\u001b[0m \u001b[0;32mNone\u001b[0m\u001b[0;34m,\u001b[0m\u001b[0mdata\u001b[0m\u001b[0;34m=\u001b[0m\u001b[0mX_norm_post_boxcox\u001b[0m\u001b[0;34m)\u001b[0m\u001b[0;34m\u001b[0m\u001b[0;34m\u001b[0m\u001b[0m\n\u001b[0m",
      "\u001b[0;32m~/Environments/dev_env/lib/python3.7/site-packages/seaborn/axisgrid.py\u001b[0m in \u001b[0;36mjointplot\u001b[0;34m(x, y, data, kind, stat_func, color, height, ratio, space, dropna, xlim, ylim, joint_kws, marginal_kws, annot_kws, **kwargs)\u001b[0m\n\u001b[1;32m   2292\u001b[0m         \u001b[0mmarginal_kws\u001b[0m\u001b[0;34m.\u001b[0m\u001b[0msetdefault\u001b[0m\u001b[0;34m(\u001b[0m\u001b[0;34m\"kde\"\u001b[0m\u001b[0;34m,\u001b[0m \u001b[0;32mFalse\u001b[0m\u001b[0;34m)\u001b[0m\u001b[0;34m\u001b[0m\u001b[0;34m\u001b[0m\u001b[0m\n\u001b[1;32m   2293\u001b[0m         \u001b[0mmarginal_kws\u001b[0m\u001b[0;34m.\u001b[0m\u001b[0msetdefault\u001b[0m\u001b[0;34m(\u001b[0m\u001b[0;34m\"color\"\u001b[0m\u001b[0;34m,\u001b[0m \u001b[0mcolor\u001b[0m\u001b[0;34m)\u001b[0m\u001b[0;34m\u001b[0m\u001b[0;34m\u001b[0m\u001b[0m\n\u001b[0;32m-> 2294\u001b[0;31m         \u001b[0mgrid\u001b[0m\u001b[0;34m.\u001b[0m\u001b[0mplot_marginals\u001b[0m\u001b[0;34m(\u001b[0m\u001b[0mdistplot\u001b[0m\u001b[0;34m,\u001b[0m \u001b[0;34m**\u001b[0m\u001b[0mmarginal_kws\u001b[0m\u001b[0;34m)\u001b[0m\u001b[0;34m\u001b[0m\u001b[0;34m\u001b[0m\u001b[0m\n\u001b[0m\u001b[1;32m   2295\u001b[0m \u001b[0;34m\u001b[0m\u001b[0m\n\u001b[1;32m   2296\u001b[0m     \u001b[0;32melif\u001b[0m \u001b[0mkind\u001b[0m\u001b[0;34m.\u001b[0m\u001b[0mstartswith\u001b[0m\u001b[0;34m(\u001b[0m\u001b[0;34m\"hex\"\u001b[0m\u001b[0;34m)\u001b[0m\u001b[0;34m:\u001b[0m\u001b[0;34m\u001b[0m\u001b[0;34m\u001b[0m\u001b[0m\n",
      "\u001b[0;32m~/Environments/dev_env/lib/python3.7/site-packages/seaborn/axisgrid.py\u001b[0m in \u001b[0;36mplot_marginals\u001b[0;34m(self, func, **kwargs)\u001b[0m\n\u001b[1;32m   1811\u001b[0m         \u001b[0mkwargs\u001b[0m\u001b[0;34m[\u001b[0m\u001b[0;34m\"vertical\"\u001b[0m\u001b[0;34m]\u001b[0m \u001b[0;34m=\u001b[0m \u001b[0;32mTrue\u001b[0m\u001b[0;34m\u001b[0m\u001b[0;34m\u001b[0m\u001b[0m\n\u001b[1;32m   1812\u001b[0m         \u001b[0mplt\u001b[0m\u001b[0;34m.\u001b[0m\u001b[0msca\u001b[0m\u001b[0;34m(\u001b[0m\u001b[0mself\u001b[0m\u001b[0;34m.\u001b[0m\u001b[0max_marg_y\u001b[0m\u001b[0;34m)\u001b[0m\u001b[0;34m\u001b[0m\u001b[0;34m\u001b[0m\u001b[0m\n\u001b[0;32m-> 1813\u001b[0;31m         \u001b[0mfunc\u001b[0m\u001b[0;34m(\u001b[0m\u001b[0mself\u001b[0m\u001b[0;34m.\u001b[0m\u001b[0my\u001b[0m\u001b[0;34m,\u001b[0m \u001b[0;34m**\u001b[0m\u001b[0mkwargs\u001b[0m\u001b[0;34m)\u001b[0m\u001b[0;34m\u001b[0m\u001b[0;34m\u001b[0m\u001b[0m\n\u001b[0m\u001b[1;32m   1814\u001b[0m \u001b[0;34m\u001b[0m\u001b[0m\n\u001b[1;32m   1815\u001b[0m         \u001b[0;32mreturn\u001b[0m \u001b[0mself\u001b[0m\u001b[0;34m\u001b[0m\u001b[0;34m\u001b[0m\u001b[0m\n",
      "\u001b[0;32m~/Environments/dev_env/lib/python3.7/site-packages/seaborn/distributions.py\u001b[0m in \u001b[0;36mdistplot\u001b[0;34m(a, bins, hist, kde, rug, fit, hist_kws, kde_kws, rug_kws, fit_kws, color, vertical, norm_hist, axlabel, label, ax)\u001b[0m\n\u001b[1;32m    213\u001b[0m     \u001b[0;32mif\u001b[0m \u001b[0mhist\u001b[0m\u001b[0;34m:\u001b[0m\u001b[0;34m\u001b[0m\u001b[0;34m\u001b[0m\u001b[0m\n\u001b[1;32m    214\u001b[0m         \u001b[0;32mif\u001b[0m \u001b[0mbins\u001b[0m \u001b[0;32mis\u001b[0m \u001b[0;32mNone\u001b[0m\u001b[0;34m:\u001b[0m\u001b[0;34m\u001b[0m\u001b[0;34m\u001b[0m\u001b[0m\n\u001b[0;32m--> 215\u001b[0;31m             \u001b[0mbins\u001b[0m \u001b[0;34m=\u001b[0m \u001b[0mmin\u001b[0m\u001b[0;34m(\u001b[0m\u001b[0m_freedman_diaconis_bins\u001b[0m\u001b[0;34m(\u001b[0m\u001b[0ma\u001b[0m\u001b[0;34m)\u001b[0m\u001b[0;34m,\u001b[0m \u001b[0;36m50\u001b[0m\u001b[0;34m)\u001b[0m\u001b[0;34m\u001b[0m\u001b[0;34m\u001b[0m\u001b[0m\n\u001b[0m\u001b[1;32m    216\u001b[0m         \u001b[0mhist_kws\u001b[0m\u001b[0;34m.\u001b[0m\u001b[0msetdefault\u001b[0m\u001b[0;34m(\u001b[0m\u001b[0;34m\"alpha\"\u001b[0m\u001b[0;34m,\u001b[0m \u001b[0;36m0.4\u001b[0m\u001b[0;34m)\u001b[0m\u001b[0;34m\u001b[0m\u001b[0;34m\u001b[0m\u001b[0m\n\u001b[1;32m    217\u001b[0m         \u001b[0;32mif\u001b[0m \u001b[0mLooseVersion\u001b[0m\u001b[0;34m(\u001b[0m\u001b[0mmpl\u001b[0m\u001b[0;34m.\u001b[0m\u001b[0m__version__\u001b[0m\u001b[0;34m)\u001b[0m \u001b[0;34m<\u001b[0m \u001b[0mLooseVersion\u001b[0m\u001b[0;34m(\u001b[0m\u001b[0;34m\"2.2\"\u001b[0m\u001b[0;34m)\u001b[0m\u001b[0;34m:\u001b[0m\u001b[0;34m\u001b[0m\u001b[0;34m\u001b[0m\u001b[0m\n",
      "\u001b[0;32m~/Environments/dev_env/lib/python3.7/site-packages/seaborn/distributions.py\u001b[0m in \u001b[0;36m_freedman_diaconis_bins\u001b[0;34m(a)\u001b[0m\n\u001b[1;32m     37\u001b[0m         \u001b[0;32mreturn\u001b[0m \u001b[0mint\u001b[0m\u001b[0;34m(\u001b[0m\u001b[0mnp\u001b[0m\u001b[0;34m.\u001b[0m\u001b[0msqrt\u001b[0m\u001b[0;34m(\u001b[0m\u001b[0ma\u001b[0m\u001b[0;34m.\u001b[0m\u001b[0msize\u001b[0m\u001b[0;34m)\u001b[0m\u001b[0;34m)\u001b[0m\u001b[0;34m\u001b[0m\u001b[0;34m\u001b[0m\u001b[0m\n\u001b[1;32m     38\u001b[0m     \u001b[0;32melse\u001b[0m\u001b[0;34m:\u001b[0m\u001b[0;34m\u001b[0m\u001b[0;34m\u001b[0m\u001b[0m\n\u001b[0;32m---> 39\u001b[0;31m         \u001b[0;32mreturn\u001b[0m \u001b[0mint\u001b[0m\u001b[0;34m(\u001b[0m\u001b[0mnp\u001b[0m\u001b[0;34m.\u001b[0m\u001b[0mceil\u001b[0m\u001b[0;34m(\u001b[0m\u001b[0;34m(\u001b[0m\u001b[0ma\u001b[0m\u001b[0;34m.\u001b[0m\u001b[0mmax\u001b[0m\u001b[0;34m(\u001b[0m\u001b[0;34m)\u001b[0m \u001b[0;34m-\u001b[0m \u001b[0ma\u001b[0m\u001b[0;34m.\u001b[0m\u001b[0mmin\u001b[0m\u001b[0;34m(\u001b[0m\u001b[0;34m)\u001b[0m\u001b[0;34m)\u001b[0m \u001b[0;34m/\u001b[0m \u001b[0mh\u001b[0m\u001b[0;34m)\u001b[0m\u001b[0;34m)\u001b[0m\u001b[0;34m\u001b[0m\u001b[0;34m\u001b[0m\u001b[0m\n\u001b[0m\u001b[1;32m     40\u001b[0m \u001b[0;34m\u001b[0m\u001b[0m\n\u001b[1;32m     41\u001b[0m \u001b[0;34m\u001b[0m\u001b[0m\n",
      "\u001b[0;32m~/Environments/dev_env/lib/python3.7/site-packages/numpy/ma/core.py\u001b[0m in \u001b[0;36m__int__\u001b[0;34m(self)\u001b[0m\n\u001b[1;32m   4311\u001b[0m                             \"to Python scalars\")\n\u001b[1;32m   4312\u001b[0m         \u001b[0;32melif\u001b[0m \u001b[0mself\u001b[0m\u001b[0;34m.\u001b[0m\u001b[0m_mask\u001b[0m\u001b[0;34m:\u001b[0m\u001b[0;34m\u001b[0m\u001b[0;34m\u001b[0m\u001b[0m\n\u001b[0;32m-> 4313\u001b[0;31m             \u001b[0;32mraise\u001b[0m \u001b[0mMaskError\u001b[0m\u001b[0;34m(\u001b[0m\u001b[0;34m'Cannot convert masked element to a Python int.'\u001b[0m\u001b[0;34m)\u001b[0m\u001b[0;34m\u001b[0m\u001b[0;34m\u001b[0m\u001b[0m\n\u001b[0m\u001b[1;32m   4314\u001b[0m         \u001b[0;32mreturn\u001b[0m \u001b[0mint\u001b[0m\u001b[0;34m(\u001b[0m\u001b[0mself\u001b[0m\u001b[0;34m.\u001b[0m\u001b[0mitem\u001b[0m\u001b[0;34m(\u001b[0m\u001b[0;34m)\u001b[0m\u001b[0;34m)\u001b[0m\u001b[0;34m\u001b[0m\u001b[0;34m\u001b[0m\u001b[0m\n\u001b[1;32m   4315\u001b[0m \u001b[0;34m\u001b[0m\u001b[0m\n",
      "\u001b[0;31mMaskError\u001b[0m: Cannot convert masked element to a Python int."
     ]
    },
    {
     "data": {
      "image/png": "[encoded data removed]",
      "text/plain": [
       "<Figure size 432x432 with 3 Axes>"
      ]
     },
     "metadata": {
      "needs_background": "light"
     },
     "output_type": "display_data"
    }
   ],
   "source": [
    "sns.jointplot(y=\"Kurtosis\", x=\"Skewness\", stat_func = None,data=X_norm_post_boxcox)"
   ]
  },
  {
   "cell_type": "markdown",
   "metadata": {},
   "source": [
    "## Dimensionality reduction"
   ]
  },
  {
   "cell_type": "code",
   "execution_count": 30,
   "metadata": {},
   "outputs": [],
   "source": [
    "#Feature scaling: Most models require the predictors to be on the same scale for better performancee\n",
    "sc = StandardScaler() #Every value will be between 1 and -1, with an average of 0\n",
    "X_std_train = sc.fit_transform(X_boxcox_train)\n",
    "X_std_validation = sc.transform(X_boxcox_validation)\n",
    "\n",
    "X_std_train = pd.DataFrame(X_std_train)\n",
    "X_std_validation = pd.DataFrame(X_std_validation)"
   ]
  },
  {
   "cell_type": "code",
   "execution_count": 31,
   "metadata": {},
   "outputs": [
    {
     "name": "stdout",
     "output_type": "stream",
     "text": [
      "Before removing predictors with only zeros (19227, 465)\n",
      "After removing predictors with only zeros (19227, 254)\n"
     ]
    }
   ],
   "source": [
    "all_zero= ((X_std_train == 0)\n",
    "           .all()==False)\n",
    "filtered_cols = (all_zero[all_zero]\n",
    "                 .index\n",
    "                 .values)\n",
    "\n",
    "print(\"Before removing predictors with only zeros\", X_std_train.shape)\n",
    "\n",
    "X_rm_train = X_std_train.loc[:,filtered_cols]\n",
    "X_rm_validation = X_std_validation.loc[:,filtered_cols]\n",
    "\n",
    "print(\"After removing predictors with only zeros\", X_rm_train.shape)"
   ]
  },
  {
   "cell_type": "markdown",
   "metadata": {},
   "source": [
    "## Predictor correlations"
   ]
  },
  {
   "cell_type": "code",
   "execution_count": 32,
   "metadata": {},
   "outputs": [
    {
     "data": {
      "text/plain": [
       "<matplotlib.axes._subplots.AxesSubplot at 0x1117ad588>"
      ]
     },
     "execution_count": 32,
     "metadata": {},
     "output_type": "execute_result"
    },
    {
     "data": {
      "image/png": "[encoded data removed]",
      "text/plain": [
       "<Figure size 1080x1080 with 2 Axes>"
      ]
     },
     "metadata": {
      "needs_background": "light"
     },
     "output_type": "display_data"
    }
   ],
   "source": [
    "X_train_corr = X_rm_train.corr()\n",
    "\n",
    "fig = plt.figure(figsize=(15,15))\n",
    "sns.heatmap(X_train_corr,xticklabels=False, yticklabels=False)"
   ]
  },
  {
   "cell_type": "code",
   "execution_count": 33,
   "metadata": {},
   "outputs": [
    {
     "data": {
      "text/plain": [
       "19.0"
      ]
     },
     "execution_count": 33,
     "metadata": {},
     "output_type": "execute_result"
    }
   ],
   "source": [
    "# Assign a threshold of 0.9 and see how many predictor pairs have correlation above this threshold\n",
    "corr_stack = X_train_corr.stack()\n",
    "corr_thresh = 0.9\n",
    "\n",
    "# Total entries in correlation matrix above threshold\n",
    "Nthresh = (abs(corr_stack) >= corr_thresh).sum()\n",
    "\n",
    "# Subtracting the correlation of predictor with themselves which is equal to 1\n",
    "Nthresh -= 254\n",
    "\n",
    "# Pairwise correlations appear twice in the matrix\n",
    "Nthresh *= 0.5\n",
    "\n",
    "Nthresh"
   ]
  },
  {
   "cell_type": "markdown",
   "metadata": {},
   "source": [
    "Only 19 predictor pairs have correlation above our defined threshold"
   ]
  },
  {
   "cell_type": "markdown",
   "metadata": {},
   "source": [
    "## Principal Component Analysis"
   ]
  },
  {
   "cell_type": "code",
   "execution_count": 34,
   "metadata": {},
   "outputs": [
    {
     "data": {
      "text/plain": [
       "PCA(copy=True, iterated_power='auto', n_components=None, random_state=None,\n",
       "  svd_solver='auto', tol=0.0, whiten=False)"
      ]
     },
     "execution_count": 34,
     "metadata": {},
     "output_type": "execute_result"
    }
   ],
   "source": [
    "#PCA reduces the dimensionality of the dataset to a handful of variables\n",
    "pca = PCA()\n",
    "pca.fit(X_rm_train)"
   ]
  },
  {
   "cell_type": "code",
   "execution_count": 35,
   "metadata": {},
   "outputs": [
    {
     "data": {
      "text/plain": [
       "[<matplotlib.axis.YTick at 0x1174b90f0>,\n",
       " <matplotlib.axis.YTick at 0x1174b39e8>,\n",
       " <matplotlib.axis.YTick at 0x1174ada58>,\n",
       " <matplotlib.axis.YTick at 0x115b58240>,\n",
       " <matplotlib.axis.YTick at 0x115b58710>,\n",
       " <matplotlib.axis.YTick at 0x115b58be0>,\n",
       " <matplotlib.axis.YTick at 0x115b5f160>,\n",
       " <matplotlib.axis.YTick at 0x115b5f5c0>,\n",
       " <matplotlib.axis.YTick at 0x115b587f0>,\n",
       " <matplotlib.axis.YTick at 0x115b5f940>,\n",
       " <matplotlib.axis.YTick at 0x115b5fda0>]"
      ]
     },
     "execution_count": 35,
     "metadata": {},
     "output_type": "execute_result"
    },
    {
     "data": {
      "image/png": "[encoded data removed]",
      "text/plain": [
       "<Figure size 432x288 with 1 Axes>"
      ]
     },
     "metadata": {
      "needs_background": "light"
     },
     "output_type": "display_data"
    }
   ],
   "source": [
    "fig, ax = plt.subplots(1,1)\n",
    "\n",
    "ax.bar(range(1, 255), pca.explained_variance_ratio_, alpha=0.5, align='center')\n",
    "ax.step(range(1, 255), np.cumsum(pca.explained_variance_ratio_), where='mid')\n",
    "ax.set_ylabel('Explained variance ratio')\n",
    "ax.set_xlabel('Principal components')\n",
    "ax.set_yticks(np.arange(0,1.1,0.1))"
   ]
  },
  {
   "cell_type": "markdown",
   "metadata": {},
   "source": [
    "Roughly 95% of the variance is explained by the first 150 eigen vectors"
   ]
  },
  {
   "cell_type": "code",
   "execution_count": 36,
   "metadata": {},
   "outputs": [
    {
     "data": {
      "text/plain": [
       "Text(0, 0.5, 'Reconstruction Error')"
      ]
     },
     "execution_count": 36,
     "metadata": {},
     "output_type": "execute_result"
    },
    {
     "data": {
      "image/png": "[encoded data removed]",
      "text/plain": [
       "<Figure size 432x288 with 1 Axes>"
      ]
     },
     "metadata": {
      "needs_background": "light"
     },
     "output_type": "display_data"
    }
   ],
   "source": [
    "X_rm_train = np.array(X_rm_train)\n",
    "mu = np.mean(X_rm_train,axis = 0)\n",
    "\n",
    "recon_error = []\n",
    "for nComp in range(1,X_rm_train.shape[1]):\n",
    "    #pca.components_ is already sorted by explained variance\n",
    "    Xrecon = np.dot(pca.transform(X_rm_train)[:,:nComp], pca.components_[:nComp,:])\n",
    "    Xrecon += mu\n",
    "    recon_error.append(sum(np.ravel(np.abs(Xrecon- X_rm_train)**2)))\n",
    "\n",
    "pd.Series(recon_error).plot()\n",
    "plt.xlabel(\"Number of Eigen Vectors\")\n",
    "plt.ylabel(\"Reconstruction Error\")"
   ]
  },
  {
   "cell_type": "markdown",
   "metadata": {},
   "source": [
    "## Reduce training & validation data to 150"
   ]
  },
  {
   "cell_type": "code",
   "execution_count": 37,
   "metadata": {},
   "outputs": [
    {
     "data": {
      "text/plain": [
       "((19227, 150), (1111, 150))"
      ]
     },
     "execution_count": 37,
     "metadata": {},
     "output_type": "execute_result"
    }
   ],
   "source": [
    "Ndim_reduce = 150\n",
    "X_train_pca = pca.transform(X_rm_train)[:,:Ndim_reduce]\n",
    "X_validation_pca = pca.transform(X_rm_validation)[:,:Ndim_reduce]\n",
    "\n",
    "X_train_pca.shape,X_validation_pca.shape"
   ]
  },
  {
   "cell_type": "markdown",
   "metadata": {},
   "source": [
    "## Setup"
   ]
  },
  {
   "cell_type": "code",
   "execution_count": 38,
   "metadata": {},
   "outputs": [],
   "source": [
    "#Data collection & transformation\n",
    "import datetime as dt\n",
    "import time\n",
    "import pickle\n",
    "from sklearn.preprocessing import Imputer, StandardScaler\n",
    "from itertools import cycle\n",
    "\n",
    "#Statistical testing\n",
    "import statsmodels.api as sm\n",
    "from statsmodels.formula.api import ols\n",
    "import scipy\n",
    "\n",
    "#Machine learning\n",
    "from sklearn.model_selection import train_test_split, cross_val_score\n",
    "from sklearn.preprocessing import PolynomialFeatures\n",
    "from sklearn.decomposition import PCA\n",
    "from sklearn.model_selection import learning_curve, validation_curve\n",
    "from sklearn.model_selection import GridSearchCV\n",
    "from sklearn.pipeline import Pipeline\n",
    "from sklearn.neighbors import KNeighborsRegressor\n",
    "from sklearn.metrics import accuracy_score, cohen_kappa_score\n",
    "\n",
    "#Plotting\n",
    "from mlxtend.plotting import plot_learning_curves\n",
    "import matplotlib\n",
    "import matplotlib.pyplot as plt\n",
    "from matplotlib.colors import ListedColormap\n",
    "plt.rcParams['figure.figsize'] = [10,8]\n",
    "import seaborn as sns\n",
    "%matplotlib inline\n",
    "\n",
    "import warnings\n",
    "warnings.filterwarnings('ignore')"
   ]
  },
  {
   "cell_type": "code",
   "execution_count": 39,
   "metadata": {},
   "outputs": [],
   "source": [
    "# X_train_pca # X_pca_crossval\n",
    "# Y_train # y_crossval\n",
    "# X_validation_pca # X_pca_holdout\n",
    "# Y_validation # y_holdout\n"
   ]
  },
  {
   "cell_type": "code",
   "execution_count": 40,
   "metadata": {},
   "outputs": [
    {
     "data": {
      "text/plain": [
       "((17304, 465), (1923, 465))"
      ]
     },
     "execution_count": 40,
     "metadata": {},
     "output_type": "execute_result"
    }
   ],
   "source": [
    "crossval_raw_df, holdout_raw_df = train_test_split(X_train, test_size = 0.1,random_state = 1)\n",
    "crossval_raw_df.shape, holdout_raw_df.shape\n",
    "# new dataset, consisting of 10%"
   ]
  },
  {
   "cell_type": "code",
   "execution_count": 41,
   "metadata": {},
   "outputs": [
    {
     "data": {
      "text/plain": [
       "((17304, 150), (1923, 150))"
      ]
     },
     "execution_count": 41,
     "metadata": {},
     "output_type": "execute_result"
    }
   ],
   "source": [
    "crossval_pca_df, holdout_pca_df = train_test_split(X_train_pca, test_size = 0.1,random_state = 1)\n",
    "crossval_pca_df.shape,holdout_pca_df.shape"
   ]
  },
  {
   "cell_type": "code",
   "execution_count": 42,
   "metadata": {},
   "outputs": [],
   "source": [
    "crossval_pca_df = pd.DataFrame(crossval_pca_df,index=crossval_raw_df.index)\n",
    "holdout_pca_df = pd.DataFrame(holdout_pca_df,index=holdout_raw_df.index)\n",
    "# new dataframe"
   ]
  },
  {
   "cell_type": "code",
   "execution_count": 43,
   "metadata": {},
   "outputs": [
    {
     "data": {
      "text/plain": [
       "((17304, 6), (1923, 6))"
      ]
     },
     "execution_count": 43,
     "metadata": {},
     "output_type": "execute_result"
    }
   ],
   "source": [
    "y_crossval, y_holdout = train_test_split(Y_train, test_size = 0.1,random_state = 1)\n",
    "y_crossval.shape, y_holdout.shape"
   ]
  },
  {
   "cell_type": "code",
   "execution_count": 44,
   "metadata": {},
   "outputs": [],
   "source": [
    "crossval_raw_df.fillna(value=100,inplace=True)\n",
    "holdout_raw_df.fillna(value=100,inplace=True)"
   ]
  },
  {
   "cell_type": "code",
   "execution_count": 45,
   "metadata": {},
   "outputs": [
    {
     "data": {
      "text/html": [
       "<div>\n",
       "<style scoped>\n",
       "    .dataframe tbody tr th:only-of-type {\n",
       "        vertical-align: middle;\n",
       "    }\n",
       "\n",
       "    .dataframe tbody tr th {\n",
       "        vertical-align: top;\n",
       "    }\n",
       "\n",
       "    .dataframe thead th {\n",
       "        text-align: right;\n",
       "    }\n",
       "</style>\n",
       "<table border=\"1\" class=\"dataframe\">\n",
       "  <thead>\n",
       "    <tr style=\"text-align: right;\">\n",
       "      <th></th>\n",
       "      <th>LONGITUDE</th>\n",
       "      <th>LATITUDE</th>\n",
       "      <th>FLOOR</th>\n",
       "      <th>BUILDINGID</th>\n",
       "      <th>SPACEID</th>\n",
       "      <th>RELATIVEPOSITION</th>\n",
       "    </tr>\n",
       "  </thead>\n",
       "  <tbody>\n",
       "    <tr>\n",
       "      <th>4363</th>\n",
       "      <td>-7445.557874</td>\n",
       "      <td>4.864827e+06</td>\n",
       "      <td>0</td>\n",
       "      <td>1</td>\n",
       "      <td>202</td>\n",
       "      <td>1</td>\n",
       "    </tr>\n",
       "    <tr>\n",
       "      <th>10563</th>\n",
       "      <td>-7345.423300</td>\n",
       "      <td>4.864830e+06</td>\n",
       "      <td>3</td>\n",
       "      <td>2</td>\n",
       "      <td>119</td>\n",
       "      <td>2</td>\n",
       "    </tr>\n",
       "    <tr>\n",
       "      <th>14478</th>\n",
       "      <td>-7317.526100</td>\n",
       "      <td>4.864795e+06</td>\n",
       "      <td>3</td>\n",
       "      <td>2</td>\n",
       "      <td>137</td>\n",
       "      <td>2</td>\n",
       "    </tr>\n",
       "    <tr>\n",
       "      <th>18075</th>\n",
       "      <td>-7643.428200</td>\n",
       "      <td>4.864928e+06</td>\n",
       "      <td>2</td>\n",
       "      <td>0</td>\n",
       "      <td>202</td>\n",
       "      <td>2</td>\n",
       "    </tr>\n",
       "    <tr>\n",
       "      <th>9134</th>\n",
       "      <td>-7659.935300</td>\n",
       "      <td>4.864939e+06</td>\n",
       "      <td>3</td>\n",
       "      <td>0</td>\n",
       "      <td>215</td>\n",
       "      <td>2</td>\n",
       "    </tr>\n",
       "  </tbody>\n",
       "</table>\n",
       "</div>"
      ],
      "text/plain": [
       "         LONGITUDE      LATITUDE  FLOOR  BUILDINGID  SPACEID  RELATIVEPOSITION\n",
       "4363  -7445.557874  4.864827e+06      0           1      202                 1\n",
       "10563 -7345.423300  4.864830e+06      3           2      119                 2\n",
       "14478 -7317.526100  4.864795e+06      3           2      137                 2\n",
       "18075 -7643.428200  4.864928e+06      2           0      202                 2\n",
       "9134  -7659.935300  4.864939e+06      3           0      215                 2"
      ]
     },
     "execution_count": 45,
     "metadata": {},
     "output_type": "execute_result"
    }
   ],
   "source": [
    "y_crossval.head()"
   ]
  },
  {
   "cell_type": "markdown",
   "metadata": {},
   "source": [
    "## Building EDA (Exploratory Data Analysis)"
   ]
  },
  {
   "cell_type": "code",
   "execution_count": 46,
   "metadata": {},
   "outputs": [
    {
     "data": {
      "text/plain": [
       "<matplotlib.axes._subplots.AxesSubplot at 0x11799c4a8>"
      ]
     },
     "execution_count": 46,
     "metadata": {},
     "output_type": "execute_result"
    },
    {
     "data": {
      "image/png": "[encoded data removed]",
      "text/plain": [
       "<Figure size 432x288 with 1 Axes>"
      ]
     },
     "metadata": {
      "needs_background": "light"
     },
     "output_type": "display_data"
    }
   ],
   "source": [
    "sns.distplot(y_crossval[['BUILDINGID']], kde=False)\n",
    "# kde= kernel density estimation to estimate the probability density function of a random variable"
   ]
  },
  {
   "cell_type": "markdown",
   "metadata": {},
   "source": [
    "Observations:\n",
    "Building 2 has a clear majority with its count being slightly lower than Building 1.\n",
    "Building 0 and 1 have roughly the same representation in the train data."
   ]
  },
  {
   "cell_type": "markdown",
   "metadata": {},
   "source": [
    "## Creating Dashboards"
   ]
  },
  {
   "cell_type": "code",
   "execution_count": null,
   "metadata": {},
   "outputs": [],
   "source": []
  },
  {
   "cell_type": "code",
   "execution_count": 48,
   "metadata": {},
   "outputs": [],
   "source": [
    "dboard = dashboard.Dashboard()\n",
    "# dboard.get_preview()"
   ]
  },
  {
   "cell_type": "code",
   "execution_count": 49,
   "metadata": {},
   "outputs": [
    {
     "data": {
      "text/html": [
       "<iframe id=\"igraph\" scrolling=\"no\" style=\"border:none;\" seamless=\"seamless\" src=\"https://plot.ly/~Majel45/8.embed\" height=\"525px\" width=\"100%\"></iframe>"
      ],
      "text/plain": [
       "<plotly.tools.PlotlyDisplay object>"
      ]
     },
     "execution_count": 49,
     "metadata": {},
     "output_type": "execute_result"
    }
   ],
   "source": [
    "markers = ('s', 'x', 'o', '^', 'v')\n",
    "colors = ('red', 'blue', 'lightgreen', 'gray', 'cyan')\n",
    "cmap = ListedColormap(colors[:len(np.unique(y_crossval['BUILDINGID']))])\n",
    "\n",
    "building_scatter = []\n",
    "\n",
    "for idx, cl in enumerate(np.unique(y_crossval['BUILDINGID'])):\n",
    "\n",
    "#   plt.scatter(x=y_crossval.loc[y_crossval.BUILDINGID== cl]['LATITUDE'],\n",
    "#               y=y_crossval.loc[y_crossval.BUILDINGID== cl]['LONGITUDE'],\n",
    "#               alpha=0.6,\n",
    "#               c=cmap(idx),\n",
    "#               edgecolor='black',\n",
    "#               marker=markers[idx],\n",
    "#               label=cl)\n",
    "\n",
    "    trace = go.Scatter( x=y_crossval.loc[y_crossval.BUILDINGID== cl]['LATITUDE'],\n",
    "                           y=y_crossval.loc[y_crossval.BUILDINGID== cl]['LONGITUDE'],                           \n",
    "                           text=idx,\n",
    "                           mode='markers',\n",
    "                           marker=dict(size=12,\n",
    "                             line=dict(width=1),\n",
    "                             color=cl\n",
    "                           ),\n",
    "                           name=idx,\n",
    "                         )\n",
    "    building_scatter.append(trace)\n",
    "\n",
    "layout = go.Layout(\n",
    "    title='BUILDING LOCATIONS',\n",
    "    xaxis=dict(\n",
    "        title='LATITUDE',\n",
    "        titlefont=dict(\n",
    "            family='Courier New, monospace',\n",
    "            size=18,\n",
    "            color='#7f7f7f'\n",
    "            )),\n",
    "    yaxis=dict(\n",
    "        title='LONGITUDE',\n",
    "        titlefont=dict(\n",
    "            family='Courier New, monospace',\n",
    "            size=18,\n",
    "            color='#7f7f7f'\n",
    "        )\n",
    "    )\n",
    ")\n",
    "data = building_scatter\n",
    "fig = go.Figure(data=data, layout=layout)\n",
    "py.iplot(fig, filename='building_locations')\n",
    "    \n",
    "# plt.xlabel('Latitude')\n",
    "# plt.ylabel('Longitude')\n",
    "# plt.legend(loc='upper right')\n",
    "# plt.tight_layout()"
   ]
  },
  {
   "cell_type": "markdown",
   "metadata": {},
   "source": [
    "the above plot illustrates the locations of the buildings in the campus."
   ]
  },
  {
   "cell_type": "code",
   "execution_count": 50,
   "metadata": {},
   "outputs": [
    {
     "data": {
      "text/html": [
       "<iframe id=\"igraph\" scrolling=\"no\" style=\"border:none;\" seamless=\"seamless\" src=\"https://plot.ly/~Majel45/10.embed\" height=\"525px\" width=\"100%\"></iframe>"
      ],
      "text/plain": [
       "<plotly.tools.PlotlyDisplay object>"
      ]
     },
     "execution_count": 50,
     "metadata": {},
     "output_type": "execute_result"
    }
   ],
   "source": [
    "markers = ('s', 'x', 'o', '^', 'v')\n",
    "colors = ('red', 'blue', 'lightgreen', 'gray', 'cyan')\n",
    "cmap = ListedColormap(colors[:len(np.unique(y_crossval['BUILDINGID']))])\n",
    "\n",
    "# iloc= item/index location\n",
    "# enumerate= go through each value\n",
    "building_scatter = []\n",
    "\n",
    "for idx, cl in enumerate(np.unique(y_crossval['BUILDINGID'])):\n",
    "\n",
    "#     print(X_train.loc[Y_train.BUILDINGID== cl].iloc[:,0])\n",
    "#     plt.scatter(x=crossval_pca_df.loc[y_crossval.BUILDINGID== cl].iloc[:,0],\n",
    "#                y=crossval_pca_df.loc[y_crossval.BUILDINGID== cl].iloc[:,1],\n",
    "#                alpha=0.6, # alpha= how transparant something is\n",
    "#                c=cmap(idx), # class map # idx = each unique building id\n",
    "#                edgecolor='black',\n",
    "#                marker=markers[idx],\n",
    "#                label=cl)\n",
    "    trace = go.Scatter( x=crossval_pca_df.loc[y_crossval.BUILDINGID== cl].iloc[:,0],\n",
    "                           y=crossval_pca_df.loc[y_crossval.BUILDINGID== cl].iloc[:,1],                           \n",
    "                           text=idx,\n",
    "                           mode='markers',\n",
    "                           marker=dict(size=12,\n",
    "                             line=dict(width=1),\n",
    "                             color=cl\n",
    "                           ),\n",
    "                           name=idx,\n",
    "                         )\n",
    "    building_scatter.append(trace)\n",
    "\n",
    "layout = go.Layout(\n",
    "    title='BUILDING PCA',\n",
    "    xaxis=dict(\n",
    "        title='PCA COMPONENT 1',\n",
    "        titlefont=dict(\n",
    "            family='Courier New, monospace',\n",
    "            size=18,\n",
    "            color='#7f7f7f'\n",
    "            )),\n",
    "    yaxis=dict(\n",
    "        title='PCA COMPONENT 2',\n",
    "        titlefont=dict(\n",
    "            family='Courier New, monospace',\n",
    "            size=18,\n",
    "            color='#7f7f7f'\n",
    "        )\n",
    "    )\n",
    ")\n",
    "data = building_scatter\n",
    "fig = go.Figure(data=data, layout=layout)\n",
    "py.iplot(fig, filename='building_pca')\n",
    "    \n",
    "# plt.xlabel('PCA Component 1')\n",
    "# plt.ylabel('PCA Component 2')\n",
    "# plt.legend(loc='lower right')\n",
    "# plt.tight_layout()\n",
    "    "
   ]
  },
  {
   "cell_type": "markdown",
   "metadata": {},
   "source": [
    "This plot illustrates how buildingID are distributed across the top two PCA dimensions. PCA is an unsupervised learning technique for dimensionality reduction. Possibility top 2 PCA components might not have explained responce variable well. "
   ]
  },
  {
   "cell_type": "markdown",
   "metadata": {},
   "source": [
    "## Floor EDA"
   ]
  },
  {
   "cell_type": "code",
   "execution_count": 52,
   "metadata": {},
   "outputs": [
    {
     "data": {
      "text/plain": [
       "<matplotlib.axes._subplots.AxesSubplot at 0x115caffd0>"
      ]
     },
     "execution_count": 52,
     "metadata": {},
     "output_type": "execute_result"
    },
    {
     "data": {
      "image/png": "[encoded data removed]",
      "text/plain": [
       "<Figure size 432x288 with 1 Axes>"
      ]
     },
     "metadata": {
      "needs_background": "light"
     },
     "output_type": "display_data"
    }
   ],
   "source": [
    "sns.countplot(x='FLOOR', hue='BUILDINGID', data=y_crossval, orient='v')"
   ]
  },
  {
   "cell_type": "code",
   "execution_count": 94,
   "metadata": {},
   "outputs": [],
   "source": [
    "tmp_df = y_crossval.groupby(['BUILDINGID', 'FLOOR']).agg('count').reset_index()"
   ]
  },
  {
   "cell_type": "code",
   "execution_count": 95,
   "metadata": {},
   "outputs": [
    {
     "data": {
      "text/html": [
       "<div>\n",
       "<style scoped>\n",
       "    .dataframe tbody tr th:only-of-type {\n",
       "        vertical-align: middle;\n",
       "    }\n",
       "\n",
       "    .dataframe tbody tr th {\n",
       "        vertical-align: top;\n",
       "    }\n",
       "\n",
       "    .dataframe thead th {\n",
       "        text-align: right;\n",
       "    }\n",
       "</style>\n",
       "<table border=\"1\" class=\"dataframe\">\n",
       "  <thead>\n",
       "    <tr style=\"text-align: right;\">\n",
       "      <th></th>\n",
       "      <th>BUILDINGID</th>\n",
       "      <th>FLOOR</th>\n",
       "      <th>LONGITUDE</th>\n",
       "      <th>LATITUDE</th>\n",
       "      <th>SPACEID</th>\n",
       "      <th>RELATIVEPOSITION</th>\n",
       "    </tr>\n",
       "  </thead>\n",
       "  <tbody>\n",
       "    <tr>\n",
       "      <th>0</th>\n",
       "      <td>0</td>\n",
       "      <td>0</td>\n",
       "      <td>950</td>\n",
       "      <td>950</td>\n",
       "      <td>950</td>\n",
       "      <td>950</td>\n",
       "    </tr>\n",
       "    <tr>\n",
       "      <th>1</th>\n",
       "      <td>0</td>\n",
       "      <td>1</td>\n",
       "      <td>1224</td>\n",
       "      <td>1224</td>\n",
       "      <td>1224</td>\n",
       "      <td>1224</td>\n",
       "    </tr>\n",
       "    <tr>\n",
       "      <th>2</th>\n",
       "      <td>0</td>\n",
       "      <td>2</td>\n",
       "      <td>1293</td>\n",
       "      <td>1293</td>\n",
       "      <td>1293</td>\n",
       "      <td>1293</td>\n",
       "    </tr>\n",
       "    <tr>\n",
       "      <th>3</th>\n",
       "      <td>0</td>\n",
       "      <td>3</td>\n",
       "      <td>1257</td>\n",
       "      <td>1257</td>\n",
       "      <td>1257</td>\n",
       "      <td>1257</td>\n",
       "    </tr>\n",
       "    <tr>\n",
       "      <th>4</th>\n",
       "      <td>1</td>\n",
       "      <td>0</td>\n",
       "      <td>1218</td>\n",
       "      <td>1218</td>\n",
       "      <td>1218</td>\n",
       "      <td>1218</td>\n",
       "    </tr>\n",
       "    <tr>\n",
       "      <th>5</th>\n",
       "      <td>1</td>\n",
       "      <td>1</td>\n",
       "      <td>1126</td>\n",
       "      <td>1126</td>\n",
       "      <td>1126</td>\n",
       "      <td>1126</td>\n",
       "    </tr>\n",
       "    <tr>\n",
       "      <th>6</th>\n",
       "      <td>1</td>\n",
       "      <td>2</td>\n",
       "      <td>1252</td>\n",
       "      <td>1252</td>\n",
       "      <td>1252</td>\n",
       "      <td>1252</td>\n",
       "    </tr>\n",
       "    <tr>\n",
       "      <th>7</th>\n",
       "      <td>1</td>\n",
       "      <td>3</td>\n",
       "      <td>810</td>\n",
       "      <td>810</td>\n",
       "      <td>810</td>\n",
       "      <td>810</td>\n",
       "    </tr>\n",
       "    <tr>\n",
       "      <th>8</th>\n",
       "      <td>2</td>\n",
       "      <td>0</td>\n",
       "      <td>1721</td>\n",
       "      <td>1721</td>\n",
       "      <td>1721</td>\n",
       "      <td>1721</td>\n",
       "    </tr>\n",
       "    <tr>\n",
       "      <th>9</th>\n",
       "      <td>2</td>\n",
       "      <td>1</td>\n",
       "      <td>1942</td>\n",
       "      <td>1942</td>\n",
       "      <td>1942</td>\n",
       "      <td>1942</td>\n",
       "    </tr>\n",
       "    <tr>\n",
       "      <th>10</th>\n",
       "      <td>2</td>\n",
       "      <td>2</td>\n",
       "      <td>1417</td>\n",
       "      <td>1417</td>\n",
       "      <td>1417</td>\n",
       "      <td>1417</td>\n",
       "    </tr>\n",
       "    <tr>\n",
       "      <th>11</th>\n",
       "      <td>2</td>\n",
       "      <td>3</td>\n",
       "      <td>2431</td>\n",
       "      <td>2431</td>\n",
       "      <td>2431</td>\n",
       "      <td>2431</td>\n",
       "    </tr>\n",
       "    <tr>\n",
       "      <th>12</th>\n",
       "      <td>2</td>\n",
       "      <td>4</td>\n",
       "      <td>663</td>\n",
       "      <td>663</td>\n",
       "      <td>663</td>\n",
       "      <td>663</td>\n",
       "    </tr>\n",
       "  </tbody>\n",
       "</table>\n",
       "</div>"
      ],
      "text/plain": [
       "    BUILDINGID  FLOOR  LONGITUDE  LATITUDE  SPACEID  RELATIVEPOSITION\n",
       "0            0      0        950       950      950               950\n",
       "1            0      1       1224      1224     1224              1224\n",
       "2            0      2       1293      1293     1293              1293\n",
       "3            0      3       1257      1257     1257              1257\n",
       "4            1      0       1218      1218     1218              1218\n",
       "5            1      1       1126      1126     1126              1126\n",
       "6            1      2       1252      1252     1252              1252\n",
       "7            1      3        810       810      810               810\n",
       "8            2      0       1721      1721     1721              1721\n",
       "9            2      1       1942      1942     1942              1942\n",
       "10           2      2       1417      1417     1417              1417\n",
       "11           2      3       2431      2431     2431              2431\n",
       "12           2      4        663       663      663               663"
      ]
     },
     "execution_count": 95,
     "metadata": {},
     "output_type": "execute_result"
    }
   ],
   "source": [
    "tmp_df"
   ]
  },
  {
   "cell_type": "code",
   "execution_count": 98,
   "metadata": {},
   "outputs": [
    {
     "data": {
      "text/html": [
       "<div>\n",
       "<style scoped>\n",
       "    .dataframe tbody tr th:only-of-type {\n",
       "        vertical-align: middle;\n",
       "    }\n",
       "\n",
       "    .dataframe tbody tr th {\n",
       "        vertical-align: top;\n",
       "    }\n",
       "\n",
       "    .dataframe thead th {\n",
       "        text-align: right;\n",
       "    }\n",
       "</style>\n",
       "<table border=\"1\" class=\"dataframe\">\n",
       "  <thead>\n",
       "    <tr style=\"text-align: right;\">\n",
       "      <th></th>\n",
       "      <th>BUILDINGID</th>\n",
       "      <th>FLOOR</th>\n",
       "      <th>LONGITUDE</th>\n",
       "      <th>LATITUDE</th>\n",
       "      <th>SPACEID</th>\n",
       "      <th>RELATIVEPOSITION</th>\n",
       "    </tr>\n",
       "  </thead>\n",
       "  <tbody>\n",
       "    <tr>\n",
       "      <th>0</th>\n",
       "      <td>0</td>\n",
       "      <td>0</td>\n",
       "      <td>950</td>\n",
       "      <td>950</td>\n",
       "      <td>950</td>\n",
       "      <td>950</td>\n",
       "    </tr>\n",
       "    <tr>\n",
       "      <th>1</th>\n",
       "      <td>0</td>\n",
       "      <td>1</td>\n",
       "      <td>1224</td>\n",
       "      <td>1224</td>\n",
       "      <td>1224</td>\n",
       "      <td>1224</td>\n",
       "    </tr>\n",
       "    <tr>\n",
       "      <th>2</th>\n",
       "      <td>0</td>\n",
       "      <td>2</td>\n",
       "      <td>1293</td>\n",
       "      <td>1293</td>\n",
       "      <td>1293</td>\n",
       "      <td>1293</td>\n",
       "    </tr>\n",
       "    <tr>\n",
       "      <th>3</th>\n",
       "      <td>0</td>\n",
       "      <td>3</td>\n",
       "      <td>1257</td>\n",
       "      <td>1257</td>\n",
       "      <td>1257</td>\n",
       "      <td>1257</td>\n",
       "    </tr>\n",
       "  </tbody>\n",
       "</table>\n",
       "</div>"
      ],
      "text/plain": [
       "   BUILDINGID  FLOOR  LONGITUDE  LATITUDE  SPACEID  RELATIVEPOSITION\n",
       "0           0      0        950       950      950               950\n",
       "1           0      1       1224      1224     1224              1224\n",
       "2           0      2       1293      1293     1293              1293\n",
       "3           0      3       1257      1257     1257              1257"
      ]
     },
     "execution_count": 98,
     "metadata": {},
     "output_type": "execute_result"
    }
   ],
   "source": [
    "tmp_df_0 = tmp_df[tmp_df['BUILDINGID'] == 0]\n",
    "tmp_df_0"
   ]
  },
  {
   "cell_type": "code",
   "execution_count": 101,
   "metadata": {},
   "outputs": [
    {
     "data": {
      "text/html": [
       "<iframe id=\"igraph\" scrolling=\"no\" style=\"border:none;\" seamless=\"seamless\" src=\"https://plot.ly/~Majel45/12.embed\" height=\"525px\" width=\"100%\"></iframe>"
      ],
      "text/plain": [
       "<plotly.tools.PlotlyDisplay object>"
      ]
     },
     "execution_count": 101,
     "metadata": {},
     "output_type": "execute_result"
    }
   ],
   "source": [
    "# building 0\n",
    "tmp_df_0 = tmp_df[tmp_df['BUILDINGID'] == 0]\n",
    "trace1 = go.Bar(\n",
    "    x=tmp_df_0['FLOOR'],\n",
    "    y=tmp_df_0['LONGITUDE'],\n",
    "    name='0'\n",
    ")\n",
    "# building 1\n",
    "tmp_df_1 = tmp_df[tmp_df['BUILDINGID'] == 1]\n",
    "trace2 = go.Bar(\n",
    "    x=tmp_df_1['FLOOR'],\n",
    "    y=tmp_df_1['LONGITUDE'],\n",
    "    name='1'\n",
    ")\n",
    "\n",
    "# building 2\n",
    "tmp_df_2 = tmp_df[tmp_df['BUILDINGID'] == 2]\n",
    "trace3 = go.Bar(\n",
    "    x=tmp_df_2['FLOOR'],\n",
    "    y=tmp_df_2['LONGITUDE'],\n",
    "    name='2'\n",
    ")\n",
    "\n",
    "data = [trace1, trace2, trace3]\n",
    "layout = go.Layout(\n",
    "    barmode='group',\n",
    "    \n",
    "    title='FLOOR COUNT',\n",
    "    xaxis=dict(\n",
    "        title='FLOOR',\n",
    "        titlefont=dict(\n",
    "            family='Courier New, monospace',\n",
    "            size=18,\n",
    "            color='#7f7f7f'\n",
    "            )),\n",
    "    yaxis=dict(\n",
    "        title='COUNT',\n",
    "        titlefont=dict(\n",
    "            family='Courier New, monospace',\n",
    "            size=18,\n",
    "            color='#7f7f7f'\n",
    "        )\n",
    "    )\n",
    ")\n",
    "\n",
    "\n",
    "fig = go.Figure(data=data, layout=layout)\n",
    "py.iplot(fig, filename='grouped-bar')\n"
   ]
  },
  {
   "cell_type": "code",
   "execution_count": 102,
   "metadata": {},
   "outputs": [
    {
     "data": {
      "text/html": [
       "<div>\n",
       "<style scoped>\n",
       "    .dataframe tbody tr th:only-of-type {\n",
       "        vertical-align: middle;\n",
       "    }\n",
       "\n",
       "    .dataframe tbody tr th {\n",
       "        vertical-align: top;\n",
       "    }\n",
       "\n",
       "    .dataframe thead th {\n",
       "        text-align: right;\n",
       "    }\n",
       "</style>\n",
       "<table border=\"1\" class=\"dataframe\">\n",
       "  <thead>\n",
       "    <tr style=\"text-align: right;\">\n",
       "      <th></th>\n",
       "      <th>LONGITUDE</th>\n",
       "      <th>LATITUDE</th>\n",
       "      <th>FLOOR</th>\n",
       "      <th>BUILDINGID</th>\n",
       "      <th>SPACEID</th>\n",
       "      <th>RELATIVEPOSITION</th>\n",
       "    </tr>\n",
       "  </thead>\n",
       "  <tbody>\n",
       "    <tr>\n",
       "      <th>4363</th>\n",
       "      <td>-7445.557874</td>\n",
       "      <td>4.864827e+06</td>\n",
       "      <td>0</td>\n",
       "      <td>1</td>\n",
       "      <td>202</td>\n",
       "      <td>1</td>\n",
       "    </tr>\n",
       "  </tbody>\n",
       "</table>\n",
       "</div>"
      ],
      "text/plain": [
       "        LONGITUDE      LATITUDE  FLOOR  BUILDINGID  SPACEID  RELATIVEPOSITION\n",
       "4363 -7445.557874  4.864827e+06      0           1      202                 1"
      ]
     },
     "execution_count": 102,
     "metadata": {},
     "output_type": "execute_result"
    }
   ],
   "source": [
    "y_crossval.head(1)"
   ]
  },
  {
   "cell_type": "code",
   "execution_count": 103,
   "metadata": {},
   "outputs": [
    {
     "data": {
      "text/plain": [
       "FLOOR  BUILDINGID\n",
       "0      0              950\n",
       "       1             1218\n",
       "       2             1721\n",
       "1      0             1224\n",
       "       1             1126\n",
       "       2             1942\n",
       "2      0             1293\n",
       "       1             1252\n",
       "       2             1417\n",
       "3      0             1257\n",
       "       1              810\n",
       "       2             2431\n",
       "4      2              663\n",
       "Name: RELATIVEPOSITION, dtype: int64"
      ]
     },
     "execution_count": 103,
     "metadata": {},
     "output_type": "execute_result"
    }
   ],
   "source": [
    "y_crossval.groupby(['FLOOR', 'BUILDINGID'])['RELATIVEPOSITION'].count()"
   ]
  },
  {
   "cell_type": "markdown",
   "metadata": {},
   "source": [
    "Observations:\n",
    "   1. B0 and B1 have 4 floors, whereas B2 has 5 floors."
   ]
  },
  {
   "cell_type": "markdown",
   "metadata": {},
   "source": [
    "# Classification :- Training"
   ]
  },
  {
   "cell_type": "markdown",
   "metadata": {},
   "source": [
    "1. Building Classification\n",
    "\n",
    "2. Per-Building Floor Classification\n",
    "\n",
    "3. Lat & Long Regression"
   ]
  },
  {
   "cell_type": "markdown",
   "metadata": {},
   "source": [
    "## Training data prep"
   ]
  },
  {
   "cell_type": "code",
   "execution_count": 104,
   "metadata": {},
   "outputs": [
    {
     "data": {
      "text/html": [
       "<div>\n",
       "<style scoped>\n",
       "    .dataframe tbody tr th:only-of-type {\n",
       "        vertical-align: middle;\n",
       "    }\n",
       "\n",
       "    .dataframe tbody tr th {\n",
       "        vertical-align: top;\n",
       "    }\n",
       "\n",
       "    .dataframe thead th {\n",
       "        text-align: right;\n",
       "    }\n",
       "</style>\n",
       "<table border=\"1\" class=\"dataframe\">\n",
       "  <thead>\n",
       "    <tr style=\"text-align: right;\">\n",
       "      <th></th>\n",
       "      <th>LONGITUDE</th>\n",
       "      <th>LATITUDE</th>\n",
       "      <th>FLOOR</th>\n",
       "      <th>BUILDINGID</th>\n",
       "      <th>SPACEID</th>\n",
       "      <th>RELATIVEPOSITION</th>\n",
       "    </tr>\n",
       "  </thead>\n",
       "  <tbody>\n",
       "    <tr>\n",
       "      <th>4363</th>\n",
       "      <td>-7445.557874</td>\n",
       "      <td>4.864827e+06</td>\n",
       "      <td>0</td>\n",
       "      <td>1</td>\n",
       "      <td>202</td>\n",
       "      <td>1</td>\n",
       "    </tr>\n",
       "  </tbody>\n",
       "</table>\n",
       "</div>"
      ],
      "text/plain": [
       "        LONGITUDE      LATITUDE  FLOOR  BUILDINGID  SPACEID  RELATIVEPOSITION\n",
       "4363 -7445.557874  4.864827e+06      0           1      202                 1"
      ]
     },
     "execution_count": 104,
     "metadata": {},
     "output_type": "execute_result"
    }
   ],
   "source": [
    "y_crossval.head(1)"
   ]
  },
  {
   "cell_type": "code",
   "execution_count": 105,
   "metadata": {},
   "outputs": [
    {
     "data": {
      "text/plain": [
       "((17304, 150),\n",
       " (17304, 2),\n",
       " (17304, 1),\n",
       " (17304, 1),\n",
       " (1923, 150),\n",
       " (1923, 2),\n",
       " (1923, 1),\n",
       " (1923, 1))"
      ]
     },
     "execution_count": 105,
     "metadata": {},
     "output_type": "execute_result"
    }
   ],
   "source": [
    "# Multivariate regression: training a regression model to output multiple variables\n",
    "X_train_main = np.array(crossval_pca_df) #array is a list of values\n",
    "Y_train_main =  np.array(y_crossval[['LATITUDE', 'LONGITUDE']])\n",
    "Y_train_building =  np.array(y_crossval[['BUILDINGID']])\n",
    "Y_train_floor =  np.array(y_crossval[['FLOOR']])\n",
    "\n",
    "X_test_main = np.array(holdout_pca_df)\n",
    "Y_test_main = y_holdout[['LATITUDE', 'LONGITUDE']]\n",
    "Y_test_building = y_holdout[['BUILDINGID']]\n",
    "Y_test_floor = y_holdout[['FLOOR']]\n",
    "\n",
    "X_train_main.shape, Y_train_main.shape, Y_train_building.shape, Y_train_floor.shape, X_test_main.shape, Y_test_main.shape, Y_test_building.shape, Y_test_floor.shape\n",
    "\n",
    "# 17874 rows, 150 columns\n"
   ]
  },
  {
   "cell_type": "markdown",
   "metadata": {},
   "source": [
    "## Plot Dictionaries"
   ]
  },
  {
   "cell_type": "code",
   "execution_count": 106,
   "metadata": {},
   "outputs": [],
   "source": [
    "building_algorithms_kappa = {}\n",
    "building_algorithms_accuracy = {}\n",
    "floor_algorithms_kappa = {}\n",
    "floor_algorithms_accuracy = {}\n",
    "location_algorithms_rmse = {}\n",
    "location_algorithms_rsqrd = {}"
   ]
  },
  {
   "cell_type": "markdown",
   "metadata": {},
   "source": [
    "## Cross validation "
   ]
  },
  {
   "cell_type": "code",
   "execution_count": 107,
   "metadata": {},
   "outputs": [],
   "source": [
    "from sklearn.model_selection import KFold"
   ]
  },
  {
   "cell_type": "code",
   "execution_count": 108,
   "metadata": {},
   "outputs": [],
   "source": [
    "kf = KFold(n_splits=10) # Define the split - into 10 folds "
   ]
  },
  {
   "cell_type": "code",
   "execution_count": 109,
   "metadata": {},
   "outputs": [
    {
     "name": "stdout",
     "output_type": "stream",
     "text": [
      "17304\n",
      "TRAIN: 15573 TEST: 1731\n",
      "TRAIN: 15573 TEST: 1731\n",
      "TRAIN: 15573 TEST: 1731\n",
      "TRAIN: 15573 TEST: 1731\n",
      "TRAIN: 15574 TEST: 1730\n",
      "TRAIN: 15574 TEST: 1730\n",
      "TRAIN: 15574 TEST: 1730\n",
      "TRAIN: 15574 TEST: 1730\n",
      "TRAIN: 15574 TEST: 1730\n",
      "TRAIN: 15574 TEST: 1730\n"
     ]
    }
   ],
   "source": [
    "print(len(X_train_main))\n",
    "for train_index, test_index in kf.split(X_train_main):\n",
    "    print('TRAIN:', len(train_index), 'TEST:', len(test_index))\n",
    "    X_train, X_test = X_train_main[train_index], X_train_main[test_index]\n",
    "    y_train, y_test = Y_train_main[train_index], Y_train_main[test_index]\n",
    "#     print(X_train, X_test)"
   ]
  },
  {
   "cell_type": "markdown",
   "metadata": {},
   "source": [
    "## Building Classifier"
   ]
  },
  {
   "cell_type": "markdown",
   "metadata": {},
   "source": [
    "### KNN Classification"
   ]
  },
  {
   "cell_type": "code",
   "execution_count": 110,
   "metadata": {},
   "outputs": [],
   "source": [
    "from sklearn.neighbors import KNeighborsClassifier\n",
    "neigh_building = KNeighborsClassifier(n_neighbors=3) # initialise model"
   ]
  },
  {
   "cell_type": "code",
   "execution_count": 111,
   "metadata": {},
   "outputs": [
    {
     "name": "stdout",
     "output_type": "stream",
     "text": [
      "Accuracy:1.00\n",
      "Kappa:1.00\n"
     ]
    }
   ],
   "source": [
    "r_sqr = [] # r-squared \n",
    "for train_index,test_index in kf.split(X_train_main):\n",
    "    X_train, X_test = X_train_main[train_index], X_train_main[test_index]\n",
    "    y_train, y_test = Y_train_building[train_index], Y_train_building[test_index]\n",
    "\n",
    "    #train classifier for the subset of train data\n",
    "    m = neigh_building.fit(X_train, y_train)\n",
    "\n",
    "\n",
    "    #predict confidence for test data and append it to list\n",
    "    r_sqr.append(m.score(X_test, y_test)) # append means to add another element to the list\n",
    "    \n",
    "# predicting against test(validation) set\n",
    "pred = neigh_building.predict(X_test_main)\n",
    "\n",
    "# get accuracy\n",
    "accuracy = accuracy_score(Y_test_building, pred)\n",
    "print('Accuracy:{:.2f}'.format(accuracy))\n",
    "\n",
    "building_algorithms_accuracy['knn'] = accuracy\n",
    "\n",
    "# get kappa score\n",
    "kappa = cohen_kappa_score(Y_test_building, pred)\n",
    "print('Kappa:{:.2f}'.format(kappa))\n",
    "\n",
    "building_algorithms_kappa['knn'] = kappa\n",
    "\n",
    "# for x in r_sqr:\n",
    "#     print(\"R-Squared: \"+ str(x))"
   ]
  },
  {
   "cell_type": "code",
   "execution_count": 112,
   "metadata": {},
   "outputs": [
    {
     "data": {
      "text/plain": [
       "Text(0.5, 0, 'R-Squared')"
      ]
     },
     "execution_count": 112,
     "metadata": {},
     "output_type": "execute_result"
    },
    {
     "data": {
      "image/png": "[encoded data removed]",
      "text/plain": [
       "<Figure size 432x288 with 1 Axes>"
      ]
     },
     "metadata": {
      "needs_background": "light"
     },
     "output_type": "display_data"
    }
   ],
   "source": [
    "fig, ax = plt.subplots(1,1)\n",
    "\n",
    "sns.distplot(r_sqr, ax = ax)\n",
    "ax.set_xlabel(\"R-Squared\")"
   ]
  },
  {
   "cell_type": "markdown",
   "metadata": {},
   "source": [
    "### Random Forests Classification"
   ]
  },
  {
   "cell_type": "code",
   "execution_count": 113,
   "metadata": {},
   "outputs": [],
   "source": [
    "from sklearn.ensemble import RandomForestClassifier"
   ]
  },
  {
   "cell_type": "code",
   "execution_count": 114,
   "metadata": {},
   "outputs": [],
   "source": [
    "#initialise the model: to add parameters, i.e. no of estimator\n",
    "RANDOM_STATE = np.random.RandomState(0)\n",
    "rf_building = RandomForestClassifier(n_estimators=100, random_state=RANDOM_STATE) "
   ]
  },
  {
   "cell_type": "code",
   "execution_count": 115,
   "metadata": {},
   "outputs": [
    {
     "name": "stdout",
     "output_type": "stream",
     "text": [
      "Accuracy:1.00\n",
      "Kappa:1.00\n"
     ]
    }
   ],
   "source": [
    "r_sqr = [] # r-squared \n",
    "for train_index,test_index in kf.split(X_train_main):\n",
    "    X_train, X_test = X_train_main[train_index], X_train_main[test_index]\n",
    "    y_train, y_test = Y_train_building[train_index], Y_train_building[test_index]\n",
    "\n",
    "    # train classifier for the subset of train data \n",
    "    m = rf_building.fit(X_train, y_train)\n",
    "\n",
    "\n",
    "    # predict confidence for test data and append it to list\n",
    "    r_sqr.append(m.score(X_test, y_test)) # append means to add another element to the list\n",
    "\n",
    "# predicting against test(validation) set\n",
    "pred = rf_building.predict(X_test_main)\n",
    "\n",
    "# get accuracy\n",
    "accuracy = accuracy_score(Y_test_building, pred)\n",
    "print('Accuracy:{:.2f}'.format(accuracy))\n",
    "\n",
    "building_algorithms_accuracy['rf'] = accuracy\n",
    "\n",
    "# get kappa score\n",
    "kappa = cohen_kappa_score(Y_test_building, pred)\n",
    "print('Kappa:{:.2f}'.format(kappa))\n",
    "\n",
    "building_algorithms_kappa['rf'] = kappa\n",
    "\n",
    "#for x in r_sqr:\n",
    "    #print(\"R-Squared: \"+ str(x))"
   ]
  },
  {
   "cell_type": "markdown",
   "metadata": {},
   "source": [
    "### SVM Classification"
   ]
  },
  {
   "cell_type": "code",
   "execution_count": 116,
   "metadata": {},
   "outputs": [],
   "source": [
    "from sklearn.svm import SVC"
   ]
  },
  {
   "cell_type": "code",
   "execution_count": 117,
   "metadata": {},
   "outputs": [],
   "source": [
    "# Initialise the model\n",
    "clf_building = SVC(gamma='auto')"
   ]
  },
  {
   "cell_type": "code",
   "execution_count": 118,
   "metadata": {},
   "outputs": [
    {
     "name": "stdout",
     "output_type": "stream",
     "text": [
      "Accuracy:1.00\n",
      "Kappa:1.00\n"
     ]
    }
   ],
   "source": [
    "r_sqr = [] # r-squared \n",
    "for train_index,test_index in kf.split(X_train_main):\n",
    "    X_train, X_test = X_train_main[train_index], X_train_main[test_index]\n",
    "    y_train, y_test = Y_train_building[train_index], Y_train_building[test_index]\n",
    "\n",
    "    # train classifier for the subset of train data \n",
    "    m = clf_building.fit(X_train, y_train)\n",
    "\n",
    "\n",
    "    # predict confidence for test data and append it to list\n",
    "    r_sqr.append(m.score(X_test, y_test)) # append means to add another element to the list\n",
    "\n",
    "# predicting against test(validation) set\n",
    "pred = clf_building.predict(X_test_main)\n",
    "\n",
    "# get accuracy\n",
    "accuracy = accuracy_score(Y_test_building, pred)\n",
    "print('Accuracy:{:.2f}'.format(accuracy))\n",
    "\n",
    "building_algorithms_accuracy['support_vector_machine'] = accuracy\n",
    "\n",
    "# get kappa score\n",
    "kappa = cohen_kappa_score(Y_test_building, pred)\n",
    "print('Kappa:{:.2f}'.format(kappa))\n",
    "\n",
    "\n",
    "building_algorithms_kappa['support_vector_machine'] = kappa\n",
    "\n",
    "#for x in r_sqr:\n",
    "    #print(\"R-Squared: \"+ str(x))"
   ]
  },
  {
   "cell_type": "markdown",
   "metadata": {},
   "source": [
    "## Building - Floor Classifier"
   ]
  },
  {
   "cell_type": "markdown",
   "metadata": {},
   "source": [
    "### KNN Classification"
   ]
  },
  {
   "cell_type": "code",
   "execution_count": 119,
   "metadata": {},
   "outputs": [],
   "source": [
    "neigh_floor = KNeighborsClassifier(n_neighbors=3, algorithm='brute')"
   ]
  },
  {
   "cell_type": "code",
   "execution_count": 120,
   "metadata": {},
   "outputs": [
    {
     "name": "stdout",
     "output_type": "stream",
     "text": [
      "Accuracy:0.98\n",
      "Kappa:0.97\n"
     ]
    }
   ],
   "source": [
    "r_sqr = [] # r-squared \n",
    "for train_index,test_index in kf.split(X_train_main):\n",
    "    X_train, X_test = X_train_main[train_index], X_train_main[test_index]\n",
    "    y_train, y_test = Y_train_floor[train_index], Y_train_floor[test_index]\n",
    "\n",
    "    #train classifier for the subset of train data\n",
    "    m = neigh_floor.fit(X_train, y_train)\n",
    "\n",
    "\n",
    "    #predict confidence for test data and append it to list\n",
    "    r_sqr.append(m.score(X_test, y_test)) # append means to add another element to the list\n",
    "\n",
    "# predicting against test(validation) set\n",
    "pred = neigh_floor.predict(X_test_main)\n",
    "\n",
    "# get accuracy\n",
    "accuracy = accuracy_score(Y_test_floor, pred)\n",
    "print('Accuracy:{:.2f}'.format(accuracy))\n",
    "\n",
    "floor_algorithms_accuracy['knn'] = accuracy\n",
    "\n",
    "# get kappa score\n",
    "kappa = cohen_kappa_score(Y_test_floor, pred)\n",
    "print('Kappa:{:.2f}'.format(kappa))\n",
    "\n",
    "floor_algorithms_kappa['knn'] = kappa\n",
    "    \n",
    "#for x in r_sqr:\n",
    " #   print(\"R-Squared: \"+ str(x))"
   ]
  },
  {
   "cell_type": "code",
   "execution_count": 121,
   "metadata": {},
   "outputs": [
    {
     "data": {
      "text/plain": [
       "Text(0.5, 0, 'R-Squared')"
      ]
     },
     "execution_count": 121,
     "metadata": {},
     "output_type": "execute_result"
    },
    {
     "data": {
      "image/png": "[encoded data removed]",
      "text/plain": [
       "<Figure size 432x288 with 1 Axes>"
      ]
     },
     "metadata": {
      "needs_background": "light"
     },
     "output_type": "display_data"
    }
   ],
   "source": [
    "fig, ax = plt.subplots(1,1)\n",
    "\n",
    "sns.distplot(r_sqr, ax = ax)\n",
    "ax.set_xlabel(\"R-Squared\")"
   ]
  },
  {
   "cell_type": "markdown",
   "metadata": {},
   "source": [
    "### Random Forests Classification"
   ]
  },
  {
   "cell_type": "code",
   "execution_count": 122,
   "metadata": {},
   "outputs": [],
   "source": [
    "#initialise the model: to add parameters, i.e. no of estimator\n",
    "RANDOM_STATE = np.random.RandomState(0)\n",
    "rf_floor = RandomForestClassifier(n_estimators=100, random_state=RANDOM_STATE) "
   ]
  },
  {
   "cell_type": "code",
   "execution_count": 123,
   "metadata": {},
   "outputs": [
    {
     "name": "stdout",
     "output_type": "stream",
     "text": [
      "Accuracy:0.97\n",
      "Kappa:0.97\n"
     ]
    }
   ],
   "source": [
    "r_sqr = [] # r-squared \n",
    "for train_index,test_index in kf.split(X_train_main):\n",
    "    X_train, X_test = X_train_main[train_index], X_train_main[test_index]\n",
    "    y_train, y_test = Y_train_floor[train_index], Y_train_floor[test_index]\n",
    "\n",
    "    #train classifier for the subset of train data \n",
    "    m = rf_floor.fit(X_train, y_train)\n",
    "\n",
    "\n",
    "    #predict confidence for test data and append it to list\n",
    "    r_sqr.append(m.score(X_test, y_test)) # append means to add another element to the list\n",
    "\n",
    "# predicting against test(validation) set\n",
    "pred = rf_floor.predict(X_test_main)\n",
    "\n",
    "# get accuracy\n",
    "accuracy = accuracy_score(Y_test_floor, pred)\n",
    "print('Accuracy:{:.2f}'.format(accuracy))\n",
    "\n",
    "floor_algorithms_accuracy['rf'] = accuracy\n",
    "\n",
    "# get kappa score\n",
    "kappa = cohen_kappa_score(Y_test_floor, pred)\n",
    "print('Kappa:{:.2f}'.format(kappa))\n",
    "\n",
    "floor_algorithms_kappa['rf'] = kappa\n",
    "    \n",
    "#for x in r_sqr:\n",
    " #   print(\"R-Squared: \"+ str(x))"
   ]
  },
  {
   "cell_type": "markdown",
   "metadata": {},
   "source": [
    "### SVM Classification"
   ]
  },
  {
   "cell_type": "code",
   "execution_count": 124,
   "metadata": {},
   "outputs": [],
   "source": [
    "# Initialise the model\n",
    "clf_floor = SVC(gamma='scale')"
   ]
  },
  {
   "cell_type": "code",
   "execution_count": 125,
   "metadata": {},
   "outputs": [
    {
     "name": "stdout",
     "output_type": "stream",
     "text": [
      "Accuracy:1.00\n",
      "Kappa:1.00\n"
     ]
    }
   ],
   "source": [
    "r_sqr = [] # r-squared \n",
    "for train_index,test_index in kf.split(X_train_main):\n",
    "    X_train, X_test = X_train_main[train_index], X_train_main[test_index]\n",
    "    y_train, y_test = Y_train_building[train_index], Y_train_building[test_index]\n",
    "\n",
    "    # train classifier for the subset of train data \n",
    "    m = clf_building.fit(X_train, y_train)\n",
    "\n",
    "\n",
    "    # predict confidence for test data and append it to list\n",
    "    r_sqr.append(m.score(X_test, y_test)) # append means to add another element to the list\n",
    "\n",
    "# predicting against test(validation) set\n",
    "pred = clf_building.predict(X_test_main)\n",
    "\n",
    "# get accuracy\n",
    "accuracy = accuracy_score(Y_test_building, pred)\n",
    "print('Accuracy:{:.2f}'.format(accuracy))\n",
    "\n",
    "floor_algorithms_accuracy['support_vector_machine'] = accuracy\n",
    "\n",
    "# get kappa score\n",
    "kappa = cohen_kappa_score(Y_test_building, pred)\n",
    "print('Kappa:{:.2f}'.format(kappa))\n",
    "\n",
    "\n",
    "floor_algorithms_kappa['support_vector_machine'] = kappa\n",
    "\n",
    "#for x in r_sqr:\n",
    "    #print(\"R-Squared: \"+ str(x))"
   ]
  },
  {
   "cell_type": "markdown",
   "metadata": {},
   "source": [
    "## Latitude & Longitude Multivariate Regression"
   ]
  },
  {
   "cell_type": "markdown",
   "metadata": {},
   "source": [
    "### Linear Regression "
   ]
  },
  {
   "cell_type": "code",
   "execution_count": 126,
   "metadata": {},
   "outputs": [],
   "source": [
    "from sklearn import linear_model\n",
    "from sklearn.metrics import mean_squared_error"
   ]
  },
  {
   "cell_type": "code",
   "execution_count": 127,
   "metadata": {},
   "outputs": [],
   "source": [
    "lm_lat = linear_model.LinearRegression(normalize=True, n_jobs=2) # initialise the model: a model is a math formalue, invoke the formalue"
   ]
  },
  {
   "cell_type": "code",
   "execution_count": 128,
   "metadata": {},
   "outputs": [
    {
     "data": {
      "text/plain": [
       "array([4864938.7962, 4864813.2935, 4864833.4948, ..., 4864800.7843,\n",
       "       4864756.556 , 4864814.5994])"
      ]
     },
     "execution_count": 128,
     "metadata": {},
     "output_type": "execute_result"
    }
   ],
   "source": [
    "Y_test_main['LATITUDE'].values"
   ]
  },
  {
   "cell_type": "code",
   "execution_count": 129,
   "metadata": {},
   "outputs": [
    {
     "name": "stdout",
     "output_type": "stream",
     "text": [
      "R-Squared:0.93\n",
      "RMSE:0.34\n"
     ]
    }
   ],
   "source": [
    "r_sqr = [] # r-squared \n",
    "for train_index,test_index in kf.split(X_train_main):\n",
    "    X_train, X_test = X_train_main[train_index], X_train_main[test_index]\n",
    "    y_train, y_test = Y_train_main[train_index], Y_train_main[test_index]\n",
    "\n",
    "    #train classifier for the subset of train data\n",
    "    m = lm_lat.fit(X_train, y_train)\n",
    "\n",
    "\n",
    "    #predict confidence for test data and append it to list\n",
    "    r_sqr.append(m.score(X_test, y_test)) # append means to add another element to the list\n",
    "\n",
    "# predicting against test(validation) set\n",
    "pred = lm_lat.predict(X_test_main)\n",
    "\n",
    "# get r-squared - in regression you do not use accuracy (only for classifcation) instead you use r-squared\n",
    "rsqrd = lm_lat.score(X_test_main, Y_test_main)\n",
    "print('R-Squared:{:.2f}'.format(rsqrd))\n",
    "\n",
    "location_algorithms_rsqrd['linear_regression'] = rsqrd\n",
    "\n",
    "# get the rmse\n",
    "rmse = (mean_squared_error(pred, Y_test_main))/len(Y_test_main)\n",
    "print('RMSE:{:.2f}'.format(rmse))\n",
    "\n",
    "location_algorithms_rmse['linear_regression'] = rmse\n",
    "    \n",
    "#for x in r_sqr:\n",
    "    #print(\"R-Squared: \"+ str(x))\n",
    "#     train_confidence.append(x)"
   ]
  },
  {
   "cell_type": "markdown",
   "metadata": {},
   "source": [
    "### KNN Regression"
   ]
  },
  {
   "cell_type": "code",
   "execution_count": 130,
   "metadata": {},
   "outputs": [],
   "source": [
    "neigh_lat = KNeighborsRegressor(n_neighbors=3, p=3, leaf_size=10) # initialise the KNN model"
   ]
  },
  {
   "cell_type": "code",
   "execution_count": 131,
   "metadata": {},
   "outputs": [
    {
     "name": "stdout",
     "output_type": "stream",
     "text": [
      "R-Squared:1.00\n",
      "RMSE:0.01\n"
     ]
    }
   ],
   "source": [
    "r_sqr = [] # r-squared \n",
    "for train_index,test_index in kf.split(X_train_main):\n",
    "    X_train, X_test = X_train_main[train_index], X_train_main[test_index]\n",
    "    y_train, y_test = Y_train_main[train_index], Y_train_main[test_index]\n",
    "\n",
    "    #train classifier for the subset of train data\n",
    "    m = neigh_lat.fit(X_train, y_train)\n",
    "\n",
    "\n",
    "    #predict confidence for test data and append it to list\n",
    "    r_sqr.append(m.score(X_test, y_test)) # append means to add another element to the list\n",
    "\n",
    "    \n",
    "# predicting against test(validation) set\n",
    "pred = neigh_lat.predict(X_test_main)\n",
    "\n",
    "# get r-squared - in regression you do not use accuracy (only for classifcation) instead you use r-squared\n",
    "rsqrd = neigh_lat.score(X_test_main, Y_test_main)\n",
    "print('R-Squared:{:.2f}'.format(rsqrd))\n",
    "\n",
    "location_algorithms_rsqrd['knn'] = rsqrd\n",
    "    \n",
    "# get the rmse\n",
    "rmse = (mean_squared_error(pred, Y_test_main))/len(Y_test_main)\n",
    "print('RMSE:{:.2f}'.format(rmse))\n",
    "\n",
    "location_algorithms_rmse['knn'] = rmse\n",
    "\n",
    "#for x in r_sqr:\n",
    " #   print(\"R-Squared: \"+ str(x))\n",
    "#     train_confidence.append(x)"
   ]
  },
  {
   "cell_type": "markdown",
   "metadata": {},
   "source": [
    "### Random Forest Regression "
   ]
  },
  {
   "cell_type": "code",
   "execution_count": 132,
   "metadata": {},
   "outputs": [],
   "source": [
    "from sklearn.ensemble import ExtraTreesRegressor"
   ]
  },
  {
   "cell_type": "code",
   "execution_count": 133,
   "metadata": {},
   "outputs": [],
   "source": [
    "#initialise the model: to add parameters, i.e. no of estimator\n",
    "RANDOM_STATE = np.random.RandomState(0)\n",
    "rf_lat = ExtraTreesRegressor(n_estimators=100, random_state=RANDOM_STATE, bootstrap=False) "
   ]
  },
  {
   "cell_type": "code",
   "execution_count": 134,
   "metadata": {},
   "outputs": [
    {
     "name": "stdout",
     "output_type": "stream",
     "text": [
      "R-Squared:1.00\n",
      "RMSE:0.02\n"
     ]
    }
   ],
   "source": [
    "r_sqr = [] # r-squared \n",
    "for train_index,test_index in kf.split(X_train_main):\n",
    "    X_train, X_test = X_train_main[train_index], X_train_main[test_index]\n",
    "    y_train, y_test = Y_train_main[train_index], Y_train_main[test_index]\n",
    "\n",
    "    #train classifier for the subset of train data\n",
    "    m = rf_lat.fit(X_train, y_train)\n",
    "\n",
    "\n",
    "    #predict confidence for test data and append it to list\n",
    "    r_sqr.append(m.score(X_test, y_test)) # append means to add another element to the list\n",
    "\n",
    "    \n",
    "# predicting against test(validation) set\n",
    "pred = rf_lat.predict(X_test_main)\n",
    "\n",
    "# get r-squared - in regression you do not use accuracy (only for classifcation) instead you use r-squared\n",
    "rsqrd = rf_lat.score(X_test_main, Y_test_main)\n",
    "print('R-Squared:{:.2f}'.format(rsqrd))\n",
    "\n",
    "location_algorithms_rsqrd['random_forest'] = rsqrd\n",
    "\n",
    "# get the rmse\n",
    "rmse = (mean_squared_error(pred, Y_test_main))/len(Y_test_main)\n",
    "print('RMSE:{:.2f}'.format(rmse))\n",
    "\n",
    "location_algorithms_rmse['random_forest'] = rmse\n",
    "    \n",
    "#for x in r_sqr:\n",
    " #   print(\"R-Squared: \"+ str(x))\n",
    "#     train_confidence.append(x)"
   ]
  },
  {
   "cell_type": "markdown",
   "metadata": {},
   "source": [
    "### Decision Tree Regression"
   ]
  },
  {
   "cell_type": "code",
   "execution_count": 135,
   "metadata": {},
   "outputs": [],
   "source": [
    "from sklearn.tree import DecisionTreeRegressor"
   ]
  },
  {
   "cell_type": "code",
   "execution_count": 136,
   "metadata": {},
   "outputs": [],
   "source": [
    "# Initialise model\n",
    "dtr_lat = DecisionTreeRegressor(max_depth=5)"
   ]
  },
  {
   "cell_type": "code",
   "execution_count": 137,
   "metadata": {},
   "outputs": [
    {
     "name": "stdout",
     "output_type": "stream",
     "text": [
      "R-Squared:0.98\n",
      "RMSE:0.11\n"
     ]
    }
   ],
   "source": [
    "r_sqr = [] # r-squared \n",
    "for train_index,test_index in kf.split(X_train_main):\n",
    "    X_train, X_test = X_train_main[train_index], X_train_main[test_index]\n",
    "    y_train, y_test = Y_train_main[train_index], Y_train_main[test_index]\n",
    "\n",
    "    #train classifier for the subset of train data\n",
    "    m = dtr_lat.fit(X_train, y_train)\n",
    "\n",
    "\n",
    "    #predict confidence for test data and append it to list\n",
    "    r_sqr.append(m.score(X_test, y_test)) # append means to add another element to the list\n",
    "\n",
    "    \n",
    "# predicting against test(validation) set\n",
    "pred = dtr_lat.predict(X_test_main)\n",
    "\n",
    "# get r-squared - in regression you do not use accuracy (only for classifcation) instead you use r-squared\n",
    "rsqrd = dtr_lat.score(X_test_main, Y_test_main)\n",
    "print('R-Squared:{:.2f}'.format(rsqrd))\n",
    "\n",
    "location_algorithms_rsqrd['decision_tree'] = rsqrd\n",
    "\n",
    "# get the rmse\n",
    "rmse = (mean_squared_error(pred, Y_test_main))/len(Y_test_main)\n",
    "print('RMSE:{:.2f}'.format(rmse))\n",
    "\n",
    "location_algorithms_rmse['decision_tree'] = rmse\n",
    "    \n",
    "#for x in r_sqr:\n",
    " #   print(\"R-Squared: \"+ str(x))\n",
    "#     train_confidence.append(x)"
   ]
  },
  {
   "cell_type": "markdown",
   "metadata": {},
   "source": [
    "### Gradient Boosting Regressor"
   ]
  },
  {
   "cell_type": "code",
   "execution_count": 138,
   "metadata": {},
   "outputs": [],
   "source": [
    "from sklearn.ensemble import GradientBoostingRegressor\n",
    "from sklearn.multioutput import MultiOutputRegressor"
   ]
  },
  {
   "cell_type": "code",
   "execution_count": 139,
   "metadata": {},
   "outputs": [],
   "source": [
    "# initialise model: to set number of jobs to the number of cores, use n_jobs=-1\n",
    "gbr_lat = MultiOutputRegressor(GradientBoostingRegressor())"
   ]
  },
  {
   "cell_type": "code",
   "execution_count": 140,
   "metadata": {},
   "outputs": [
    {
     "name": "stdout",
     "output_type": "stream",
     "text": [
      "R-Squared:0.99\n",
      "RMSE:0.05\n"
     ]
    }
   ],
   "source": [
    "r_sqr = [] # r-squared \n",
    "for train_index,test_index in kf.split(X_train_main):\n",
    "    X_train, X_test = X_train_main[train_index], X_train_main[test_index]\n",
    "    y_train, y_test = Y_train_main[train_index], Y_train_main[test_index]\n",
    "\n",
    "    #train classifier for the subset of train data\n",
    "    m = gbr_lat.fit(X_train, y_train)\n",
    "\n",
    "\n",
    "    #predict confidence for test data and append it to list\n",
    "    r_sqr.append(m.score(X_test, y_test)) # append means to add another element to the list\n",
    "\n",
    "    \n",
    "# predicting against test(validation) set\n",
    "pred = gbr_lat.predict(X_test_main)\n",
    "\n",
    "# get r-squared - in regression you do not use accuracy (only for classifcation) instead you use r-squared\n",
    "rsqrd = gbr_lat.score(X_test_main, Y_test_main)\n",
    "print('R-Squared:{:.2f}'.format(rsqrd))\n",
    "\n",
    "location_algorithms_rsqrd['gradient_boosting_regressor'] = rsqrd\n",
    "\n",
    "# get the rmse\n",
    "rmse = (mean_squared_error(pred, Y_test_main))/len(Y_test_main)\n",
    "print('RMSE:{:.2f}'.format(rmse))\n",
    "\n",
    "location_algorithms_rmse['gradient_boosting_regressor'] = rmse\n",
    "    \n",
    "#for x in r_sqr:\n",
    " #   print(\"R-Squared: \"+ str(x))\n",
    "#     train_confidence.append(x)"
   ]
  },
  {
   "cell_type": "markdown",
   "metadata": {},
   "source": [
    "### Linear Lasso (Least absolute strinkage and selection operator) Regression"
   ]
  },
  {
   "cell_type": "code",
   "execution_count": 141,
   "metadata": {},
   "outputs": [],
   "source": [
    "# Initialise model\n",
    "lasso_lat = linear_model.Lasso()"
   ]
  },
  {
   "cell_type": "code",
   "execution_count": 142,
   "metadata": {},
   "outputs": [
    {
     "name": "stdout",
     "output_type": "stream",
     "text": [
      "R-Squared:0.93\n",
      "RMSE:0.38\n"
     ]
    }
   ],
   "source": [
    "r_sqr = [] # r-squared \n",
    "for train_index,test_index in kf.split(X_train_main):\n",
    "    X_train, X_test = X_train_main[train_index], X_train_main[test_index]\n",
    "    y_train, y_test = Y_train_main[train_index], Y_train_main[test_index]\n",
    "\n",
    "    #train classifier for the subset of train data\n",
    "    m = lasso_lat.fit(X_train, y_train)\n",
    "\n",
    "\n",
    "    #predict confidence for test data and append it to list\n",
    "    r_sqr.append(m.score(X_test, y_test)) # append means to add another element to the list\n",
    "\n",
    "    \n",
    "# predicting against test(validation) set\n",
    "pred = lasso_lat.predict(X_test_main)\n",
    "\n",
    "# get r-squared - in regression you do not use accuracy (only for classifcation) instead you use r-squared\n",
    "rsqrd = lasso_lat.score(X_test_main, Y_test_main)\n",
    "print('R-Squared:{:.2f}'.format(rsqrd))\n",
    "\n",
    "location_algorithms_rsqrd['linear_lasso_regression'] = rsqrd\n",
    "\n",
    "# get the rmse\n",
    "rmse = (mean_squared_error(pred, Y_test_main))/len(Y_test_main)\n",
    "print('RMSE:{:.2f}'.format(rmse))\n",
    "\n",
    "location_algorithms_rmse['linear_lasso_regression'] = rmse\n",
    "    \n",
    "#for x in r_sqr:\n",
    " #   print(\"R-Squared: \"+ str(x))\n",
    "#     train_confidence.append(x)"
   ]
  },
  {
   "cell_type": "markdown",
   "metadata": {},
   "source": [
    "### RMSE Model Plot"
   ]
  },
  {
   "cell_type": "code",
   "execution_count": 143,
   "metadata": {},
   "outputs": [
    {
     "data": {
      "image/png": "[encoded data removed]",
      "text/plain": [
       "<Figure size 432x288 with 1 Axes>"
      ]
     },
     "metadata": {
      "needs_background": "light"
     },
     "output_type": "display_data"
    }
   ],
   "source": [
    "plt.bar(range(len(location_algorithms_rmse)), list(location_algorithms_rmse.values()))\n",
    "plt.xticks(range(len(location_algorithms_rmse)), list(location_algorithms_rmse.keys()),rotation=80)\n",
    "plt.show()"
   ]
  },
  {
   "cell_type": "markdown",
   "metadata": {},
   "source": [
    "### R-Squared Model Plot"
   ]
  },
  {
   "cell_type": "code",
   "execution_count": 144,
   "metadata": {},
   "outputs": [
    {
     "data": {
      "image/png": "[encoded data removed]",
      "text/plain": [
       "<Figure size 432x288 with 1 Axes>"
      ]
     },
     "metadata": {
      "needs_background": "light"
     },
     "output_type": "display_data"
    }
   ],
   "source": [
    "plt.bar(range(len(location_algorithms_rsqrd)), list(location_algorithms_rsqrd.values()))\n",
    "plt.xticks(range(len(location_algorithms_rsqrd)), list(location_algorithms_rsqrd.keys()))\n",
    "plt.show()"
   ]
  },
  {
   "cell_type": "code",
   "execution_count": 149,
   "metadata": {},
   "outputs": [
    {
     "data": {
      "text/plain": [
       "dict_values([0.3382332281639897, 0.014929690574905273, 0.015886729972145353, 0.1132669569247111, 0.054789020934042205, 0.3830429711460912])"
      ]
     },
     "execution_count": 149,
     "metadata": {},
     "output_type": "execute_result"
    }
   ],
   "source": [
    "location_algorithms_rmse.values()"
   ]
  },
  {
   "cell_type": "code",
   "execution_count": 151,
   "metadata": {},
   "outputs": [
    {
     "data": {
      "text/html": [
       "<iframe id=\"igraph\" scrolling=\"no\" style=\"border:none;\" seamless=\"seamless\" src=\"https://plot.ly/~Majel45/16.embed\" height=\"525px\" width=\"100%\"></iframe>"
      ],
      "text/plain": [
       "<plotly.tools.PlotlyDisplay object>"
      ]
     },
     "execution_count": 151,
     "metadata": {},
     "output_type": "execute_result"
    }
   ],
   "source": [
    "# rmse models \n",
    "\n",
    "trace1 = go.Bar(\n",
    "    x=list(location_algorithms_rmse.keys()),\n",
    "    y=list(location_algorithms_rmse.values())\n",
    ")\n",
    "\n",
    "data = [trace1]\n",
    "layout = go.Layout(\n",
    "    title='RMSE Models',\n",
    "    xaxis=dict(\n",
    "        title='',\n",
    "        titlefont=dict(\n",
    "            family='Courier New, monospace',\n",
    "            size=18,\n",
    "            color='#7f7f7f'\n",
    "            )),\n",
    "    yaxis=dict(\n",
    "        title='RMSE VALUE',\n",
    "        titlefont=dict(\n",
    "            family='Courier New, monospace',\n",
    "            size=18,\n",
    "            color='#7f7f7f'\n",
    "        )\n",
    "    )\n",
    ")\n",
    "\n",
    "\n",
    "fig = go.Figure(data=data, layout=layout)\n",
    "py.iplot(fig, filename='rmse-bar')"
   ]
  }
 ],
 "metadata": {
  "kernelspec": {
   "display_name": "Python 3",
   "language": "python",
   "name": "python3"
  },
  "language_info": {
   "codemirror_mode": {
    "name": "ipython",
    "version": 3
   },
   "file_extension": ".py",
   "mimetype": "text/x-python",
   "name": "python",
   "nbconvert_exporter": "python",
   "pygments_lexer": "ipython3",
   "version": "3.7.1"
  }
 },
 "nbformat": 4,
 "nbformat_minor": 2
}
